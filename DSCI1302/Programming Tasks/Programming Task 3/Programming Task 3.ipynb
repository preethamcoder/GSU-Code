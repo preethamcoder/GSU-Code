{
 "cells": [
  {
   "cell_type": "markdown",
   "metadata": {},
   "source": [
    "# Programming Task 3"
   ]
  },
  {
   "cell_type": "markdown",
   "metadata": {},
   "source": [
    "Please submit this document to iCollege by **2021/2/7 11:00pm**. Late submission will not be accepted.  "
   ]
  },
  {
   "cell_type": "raw",
   "metadata": {},
   "source": [
    "Q1. (20 points) Develop function game() that:\n",
    "takes integers r and c as input,\n",
    "generates a field of r rows and c columns with a bomb at a randomly chosen row and column,\n",
    "and then asks users to find the bomb."
   ]
  },
  {
   "cell_type": "code",
   "execution_count": 111,
   "metadata": {},
   "outputs": [],
   "source": [
    "# write your code here\n",
    "#import numpy as np\n",
    "import random\n",
    "def game(r, c):\n",
    "    print(\"Find the bomb: \")\n",
    "    bombsq = (random.randint(1, r), random.randint(1, c))\n",
    "    a = int(input(\"Enter the row you think the bomb is in: \"))\n",
    "    b = int(input(\"Enter the column you think the bomb is in: \"))\n",
    "    if((a, b) == bombsq):\n",
    "        return(\"You have guessed the location of the bomb!\")\n",
    "    else:\n",
    "        while((a, b) != bombsq):\n",
    "            d = int(input(\"You missed last time. Enter the row you think the bomb is in: \"))\n",
    "            e = int(input(\"You missed last time. Enter the column you think the bomb is in: \"))\n",
    "            a = d\n",
    "            b = e\n",
    "        return(\"You have guessed the location of the bomb!\")"
   ]
  },
  {
   "cell_type": "code",
   "execution_count": 114,
   "metadata": {},
   "outputs": [
    {
     "name": "stdin",
     "output_type": "stream",
     "text": [
      "Enter the number of rows:  3\n",
      "Enter the number of columns:  3\n"
     ]
    },
    {
     "name": "stdout",
     "output_type": "stream",
     "text": [
      "Find the bomb: \n"
     ]
    },
    {
     "name": "stdin",
     "output_type": "stream",
     "text": [
      "Enter the row you think the bomb is in:  1\n",
      "Enter the column you think the bomb is in:  1\n",
      "You missed last time. Enter the row you think the bomb is in:  2\n",
      "You missed last time. Enter the column you think the bomb is in:  2\n",
      "You missed last time. Enter the row you think the bomb is in:  3\n",
      "You missed last time. Enter the column you think the bomb is in:  3\n",
      "You missed last time. Enter the row you think the bomb is in:  3\n",
      "You missed last time. Enter the column you think the bomb is in:  1\n",
      "You missed last time. Enter the row you think the bomb is in:  1\n",
      "You missed last time. Enter the column you think the bomb is in:  3\n",
      "You missed last time. Enter the row you think the bomb is in:  2\n",
      "You missed last time. Enter the column you think the bomb is in:  1\n",
      "You missed last time. Enter the row you think the bomb is in:  2\n",
      "You missed last time. Enter the column you think the bomb is in:  3\n",
      "You missed last time. Enter the row you think the bomb is in:  3\n",
      "You missed last time. Enter the column you think the bomb is in:  2\n"
     ]
    },
    {
     "data": {
      "text/plain": [
       "'You have guessed the location of the bomb!'"
      ]
     },
     "execution_count": 114,
     "metadata": {},
     "output_type": "execute_result"
    }
   ],
   "source": [
    "### test your code here\n",
    "r = int(input('Enter the number of rows: '))\n",
    "c = int(input('Enter the number of columns: '))\n",
    "game(r, c)"
   ]
  },
  {
   "cell_type": "raw",
   "metadata": {},
   "source": [
    "Q2. (20 points) Implement function lookup() that implements a phone book lookup application. \n",
    "Your function takes a dictionary representing a phone book as input, mapping tuples (containing the first and last name) to strings (containing phone numbers).\n",
    "\n",
    "Your function should repeatedly ask for first name and last name, and print the phone number. If the name doesn't exist in the dictionary, print 'NOT FOUND'.\n",
    "For example,\n",
    "Enter the first name: Anna\n",
    "Enter the last name: Karenina\n",
    "(123)456-78-90\n",
    "Enter the first name: Anna\n",
    "Enter the last name: Tsun\n",
    "NOT FOUND\n",
    "Enter the first name:"
   ]
  },
  {
   "cell_type": "code",
   "execution_count": 2,
   "metadata": {},
   "outputs": [],
   "source": [
    "# write your code here\n",
    "def lookup(phonbook):\n",
    "    while(True):\n",
    "        fname = input(\"Enter the first name: \")\n",
    "        lname = input(\"Enter the last name: \")\n",
    "        if((fname, lname) not in phonbook):\n",
    "            print('NOT FOUND')\n",
    "        else:\n",
    "            print(phonbook[(fname, lname)])  "
   ]
  },
  {
   "cell_type": "code",
   "execution_count": 3,
   "metadata": {},
   "outputs": [],
   "source": [
    "phonebook = {\n",
    "('Anna','Karenina'):'(123)456-78-90',\n",
    "('Yu', 'Tsun'):'(901)234-56-78',\n",
    "('Hans', 'Castorp'):'(321)908-76-54'}"
   ]
  },
  {
   "cell_type": "code",
   "execution_count": null,
   "metadata": {},
   "outputs": [
    {
     "name": "stdout",
     "output_type": "stream",
     "text": [
      "Enter the first name: Anna\n",
      "Enter the last name: Karenina\n",
      "(123)456-78-90\n",
      "Enter the first name: Anna\n",
      "Enter the last name: Tsun\n",
      "NOT FOUND\n"
     ]
    }
   ],
   "source": [
    "# test your function\n",
    "lookup(phonebook)"
   ]
  },
  {
   "cell_type": "raw",
   "metadata": {},
   "source": [
    "Q3. \n",
    "A. (30 points) Implement function wordcount() that takes a string, and returns the frequency of each word as a dictionary.  \n",
    "Note: \n",
    "1. You should ignore the uppercase and lowercase. For example, 'Unicode' and 'unicode' are considered as the same word.\n",
    "2. The punctuations and digits should NOT be counted. You only need to consider these punctuations: (),./[]\""
   ]
  },
  {
   "cell_type": "code",
   "execution_count": 120,
   "metadata": {},
   "outputs": [],
   "source": [
    "def wordcount(s):\n",
    "    table = s.lower().maketrans('(!%),./[\";\"]1234567890-', 23*' ')\n",
    "    newstr = s.lower().translate(table).split()\n",
    "    words = {}\n",
    "    for i in newstr:\n",
    "        if i in words:\n",
    "            words[i] += 1\n",
    "        else:\n",
    "            words[i] = 1\n",
    "    return words"
   ]
  },
  {
   "cell_type": "code",
   "execution_count": 58,
   "metadata": {},
   "outputs": [
    {
     "name": "stdin",
     "output_type": "stream",
     "text": [
      " What kind, of, a string. Is this/\n"
     ]
    },
    {
     "data": {
      "text/plain": [
       "{'what': 1, 'kind': 1, 'of': 1, 'a': 1, 'string': 1, 'is': 1, 'this': 1}"
      ]
     },
     "execution_count": 58,
     "metadata": {},
     "output_type": "execute_result"
    }
   ],
   "source": [
    "a = input()\n",
    "dicti = wordcount(a)\n",
    "dicti"
   ]
  },
  {
   "cell_type": "raw",
   "metadata": {},
   "source": [
    "B. (20 points) Load the file 'unicode.txt'(attached). Then print the frequency of each word in this file. \n",
    "\n",
    "The output format: The word takes 20 spaces (left aligned), and the frequency number takes 4 spaces (right aligned).\n",
    "For example,\n",
    "unicode                14\n",
    "is                     14\n",
    "an                      3"
   ]
  },
  {
   "cell_type": "code",
   "execution_count": 121,
   "metadata": {},
   "outputs": [],
   "source": [
    "# Load the file 'unicode.txt'\n",
    "f = open('unicode.txt', 'r')\n",
    "data = f.read()"
   ]
  },
  {
   "cell_type": "code",
   "execution_count": 122,
   "metadata": {},
   "outputs": [
    {
     "name": "stdout",
     "output_type": "stream",
     "text": [
      "unicode               15\n",
      "is                    14\n",
      "an                     3\n",
      "information            1\n",
      "technology             1\n",
      "it                     2\n",
      "standard               8\n",
      "for                   14\n",
      "the                   27\n",
      "consistent             1\n",
      "encoding               5\n",
      "representation         1\n",
      "and                   26\n",
      "handling               1\n",
      "of                    24\n",
      "text                   7\n",
      "expressed              1\n",
      "in                     8\n",
      "most                   2\n",
      "world's                1\n",
      "writing                1\n",
      "systems                2\n",
      "maintained             1\n",
      "by                     5\n",
      "consortium             1\n",
      "as                    13\n",
      "march                  1\n",
      "there                  2\n",
      "a                     13\n",
      "total                  1\n",
      "characters             9\n",
      "with                   4\n",
      "these                  1\n",
      "consist                1\n",
      "graphic                1\n",
      "format                 1\n",
      "covering               1\n",
      "modern                 2\n",
      "historic               1\n",
      "scripts                3\n",
      "well                   2\n",
      "multiple               2\n",
      "symbol                 1\n",
      "sets                   2\n",
      "emoji                  1\n",
      "character             11\n",
      "repertoire             1\n",
      "synchronized           1\n",
      "iso                    1\n",
      "iec                    1\n",
      "both                   2\n",
      "are                    6\n",
      "code                  13\n",
      "identical              1\n",
      "consists               1\n",
      "set                    3\n",
      "charts                 1\n",
      "visual                 1\n",
      "reference              2\n",
      "method                 1\n",
      "encodings              6\n",
      "data                   1\n",
      "files                  1\n",
      "number                 2\n",
      "related                1\n",
      "items                  1\n",
      "such                   2\n",
      "properties             1\n",
      "rules                  1\n",
      "normalization          1\n",
      "decomposition          1\n",
      "collation              1\n",
      "rendering              1\n",
      "bidirectional          1\n",
      "display                2\n",
      "order                  1\n",
      "correct                1\n",
      "containing             1\n",
      "right                  2\n",
      "to                    10\n",
      "left                   2\n",
      "arabic                 1\n",
      "hebrew                 1\n",
      "unicode's              1\n",
      "success                1\n",
      "at                     1\n",
      "unifying               1\n",
      "has                    2\n",
      "led                    1\n",
      "its                    1\n",
      "widespread             1\n",
      "predominant            1\n",
      "use                    1\n",
      "internationalization   1\n",
      "localization           1\n",
      "computer               1\n",
      "software               2\n",
      "been                   1\n",
      "implemented            2\n",
      "many                   1\n",
      "recent                 1\n",
      "technologies           1\n",
      "including              1\n",
      "operating              1\n",
      "xml                    1\n",
      "java                   1\n",
      "other                  7\n",
      "programming            1\n",
      "languages              2\n",
      "net                    1\n",
      "framework              1\n",
      "can                    2\n",
      "be                     2\n",
      "different              2\n",
      "defines                1\n",
      "transformation         1\n",
      "formats                1\n",
      "utf                   15\n",
      "several                1\n",
      "commonly               1\n",
      "used                   4\n",
      "ucs                   10\n",
      "precursor              1\n",
      "without                1\n",
      "full                   1\n",
      "support                1\n",
      "gb                     1\n",
      "standardized           1\n",
      "china                  1\n",
      "implements             1\n",
      "fully                  1\n",
      "while                  2\n",
      "not                    3\n",
      "official               1\n",
      "dominant               1\n",
      "on                     2\n",
      "world                  1\n",
      "wide                   1\n",
      "web                    1\n",
      "over                   2\n",
      "websites               1\n",
      "up                     2\n",
      "some                   1\n",
      "uses                   4\n",
      "one                    2\n",
      "byte                   2\n",
      "note                   1\n",
      "first                  3\n",
      "points                 9\n",
      "bytes                  5\n",
      "represent              2\n",
      "ascii                  2\n",
      "which                  1\n",
      "means                  1\n",
      "that                   2\n",
      "any                    3\n",
      "also                   4\n",
      "two                    2\n",
      "bits                   1\n",
      "each                   2\n",
      "but                    4\n",
      "only                   2\n",
      "encode                 3\n",
      "so                     1\n",
      "called                 1\n",
      "basic                  2\n",
      "multilingual           2\n",
      "plane                  2\n",
      "bmp                    1\n",
      "possible               1\n",
      "corresponding          1\n",
      "see                    1\n",
      "below                  1\n",
      "planes                 2\n",
      "defined                1\n",
      "version                1\n",
      "able                   2\n",
      "less                   1\n",
      "than                   2\n",
      "half                   1\n",
      "all                    4\n",
      "encoded                2\n",
      "therefore              1\n",
      "outdated               1\n",
      "though                 1\n",
      "still                  1\n",
      "widely                 2\n",
      "extends                1\n",
      "using                  1\n",
      "same                   1\n",
      "bit                    1\n",
      "long                   1\n",
      "contains               1\n",
      "no                     1\n",
      "reserved               1\n",
      "range                  1\n",
      "u+d                    1\n",
      "â€“u+dfff              1\n",
      "clarification          1\n",
      "needed                 1\n",
      "valid                  1\n",
      "referred               1\n",
      "four                   2\n",
      "given                  2\n",
      "codepoint              2\n",
      "necessarily            1\n",
      "user                   2\n",
      "perceived              2\n",
      "loosely                1\n",
      "speaking               1\n",
      "grapheme               3\n",
      "since                  1\n",
      "may                    1\n",
      "represented            1\n",
      "cluster                1\n",
      "sequence               1\n",
      "codepoints             1\n",
      "like                   1\n",
      "per                    1\n",
      "fixed                  1\n",
      "facilitating           1\n",
      "indexing               1\n",
      "unlike                 1\n",
      "however                1\n",
      "because                1\n",
      "takes                  1\n",
      "significantly          1\n",
      "more                   1\n",
      "space                  1\n",
      "examples               1\n",
      "being                  1\n",
      "variable               1\n",
      "length                 1\n",
      "sense                  1\n",
      "include:               1\n",
      "devanagari             1\n",
      "kshi                   1\n",
      "flag                   2\n",
      "emojis                 1\n",
      "clusters               1\n",
      "composed               1\n",
      "point                  1\n",
      "â€“                    1\n",
      "example                2\n",
      "japan                  1\n",
      "combining              1\n",
      "sequences              2\n",
      "graphemes              1\n",
      "\\r\\n                   1\n"
     ]
    }
   ],
   "source": [
    "# print the frequency of each word\n",
    "freqdict = wordcount(data)\n",
    "for key in freqdict:\n",
    "    #print(key)\n",
    "    print('{0:<20}{1:>4}'.format(key, str(freqdict[key])))"
   ]
  },
  {
   "cell_type": "raw",
   "metadata": {},
   "source": [
    "C. (10 points) Do Question 3B again but this time, instead of printing the result to the screen, you should write it to a file named 'unicode_count.txt'."
   ]
  },
  {
   "cell_type": "code",
   "execution_count": 123,
   "metadata": {},
   "outputs": [],
   "source": [
    "g = open('unicode_count.txt', 'wt')\n",
    "freqdict = wordcount(data)\n",
    "for key in freqdict:\n",
    "    #print(key)\n",
    "    temp = '{0:<20}{1:>4}'.format(key, str(freqdict[key]))\n",
    "    g.write(temp + \"\\n\")\n",
    "#line = g.readlines()\n",
    "#for l in line:\n",
    "    #print(l)\n",
    "g.close()\n",
    "f.close()"
   ]
  }
 ],
 "metadata": {
  "kernelspec": {
   "display_name": "Python 3",
   "language": "python",
   "name": "python3"
  },
  "language_info": {
   "codemirror_mode": {
    "name": "ipython",
    "version": 3
   },
   "file_extension": ".py",
   "mimetype": "text/x-python",
   "name": "python",
   "nbconvert_exporter": "python",
   "pygments_lexer": "ipython3",
   "version": "3.8.6"
  }
 },
 "nbformat": 4,
 "nbformat_minor": 4
}

{
 "cells": [
  {
   "cell_type": "markdown",
   "metadata": {},
   "source": [
    "# Programming Task 4"
   ]
  },
  {
   "cell_type": "markdown",
   "metadata": {},
   "source": [
    "Please submit this document to iCollege by **2021/2/14 11:00pm**. Late submission will not be accepted.  "
   ]
  },
  {
   "cell_type": "raw",
   "metadata": {},
   "source": [
    "Q1. (50 points) Develop class Animal that supports methods:\n",
    "- a constructor which accepts two arguments: species and language\n",
    "- speak()\n",
    "\n",
    "Test case:\n",
    ">>> snoopy = Animal('dog', 'bark')\n",
    ">>> snoopy.speak()\n",
    "I am a dog and I bark."
   ]
  },
  {
   "cell_type": "code",
   "execution_count": 23,
   "metadata": {},
   "outputs": [],
   "source": [
    "# write your code here\n",
    "class Animal:\n",
    "    def __init__(self, species, language):\n",
    "        self.species = species\n",
    "        self.language = language\n",
    "    def speak(self):\n",
    "        print(\"I am a \" + self.species + \" and I \" + self.language + \".\")"
   ]
  },
  {
   "cell_type": "code",
   "execution_count": 45,
   "metadata": {},
   "outputs": [
    {
     "name": "stdout",
     "output_type": "stream",
     "text": [
      "I am a dog and I bark.\n"
     ]
    }
   ],
   "source": [
    "# test your code here\n",
    "snoopy = Animal('dog', 'bark')\n",
    "snoopy.speak()"
   ]
  },
  {
   "cell_type": "raw",
   "metadata": {},
   "source": [
    "Q2. (50 points) Add multiple exception handlers to following codes."
   ]
  },
  {
   "cell_type": "code",
   "execution_count": 36,
   "metadata": {},
   "outputs": [
    {
     "name": "stdout",
     "output_type": "stream",
     "text": [
      "\n"
     ]
    }
   ],
   "source": [
    "file = open('a.txt')\n",
    "    print('Successfully opened the file!')\n",
    "    d = 0\n",
    "    print(10 / d)"
   ]
  },
  {
   "cell_type": "code",
   "execution_count": 2,
   "metadata": {},
   "outputs": [
    {
     "name": "stdout",
     "output_type": "stream",
     "text": [
      "The file was not found.\n",
      "End of this try-except block.\n"
     ]
    }
   ],
   "source": [
    "try:\n",
    "    file = open('a.txt')\n",
    "    print('Successfully opened the file!')\n",
    "    d = 0\n",
    "    print(10 / d)\n",
    "except IOError as e:\n",
    "    print(\"The file was not found.\")\n",
    "except ZeroDivisionError as z:\n",
    "    print(\"You cannot divide by 0.\")\n",
    "finally:\n",
    "    print(\"End of this try-except block.\")"
   ]
  },
  {
   "cell_type": "code",
   "execution_count": 3,
   "metadata": {},
   "outputs": [
    {
     "name": "stdout",
     "output_type": "stream",
     "text": [
      "You cannot divide by 0.\n",
      "End of this try-except block.\n"
     ]
    }
   ],
   "source": [
    "try:\n",
    "    #file = open('a.txt')\n",
    "    #print('Successfully opened the file!')\n",
    "    d = 0\n",
    "    print(10 / d)\n",
    "except IOError as e:\n",
    "    print(\"The file was not found.\")\n",
    "except ZeroDivisionError as z:\n",
    "    print(\"You cannot divide by 0.\")\n",
    "finally:\n",
    "    print(\"End of this try-except block.\")"
   ]
  }
 ],
 "metadata": {
  "kernelspec": {
   "display_name": "Python 3",
   "language": "python",
   "name": "python3"
  },
  "language_info": {
   "codemirror_mode": {
    "name": "ipython",
    "version": 3
   },
   "file_extension": ".py",
   "mimetype": "text/x-python",
   "name": "python",
   "nbconvert_exporter": "python",
   "pygments_lexer": "ipython3",
   "version": "3.8.6"
  }
 },
 "nbformat": 4,
 "nbformat_minor": 4
}

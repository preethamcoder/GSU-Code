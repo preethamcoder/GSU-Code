{
 "cells": [
  {
   "cell_type": "markdown",
   "metadata": {},
   "source": [
    "# Programming Task 2"
   ]
  },
  {
   "cell_type": "markdown",
   "metadata": {},
   "source": [
    "Please submit this document to iCollege by **2021/1/31 11:00pm**. Late submission will not be accepted.  "
   ]
  },
  {
   "cell_type": "raw",
   "metadata": {},
   "source": [
    "Q1. (25 points) Write function BMI() that:\n",
    "takes as input a person’s weight (in pounds) and height (in inches)  \n",
    "computes the person’s BMI and prints an assessment, as shown below\n",
    "The function does not return anything.\n",
    "\n",
    "The Body Mass Index is the value (weight * 703)/height2 . Indexes below 18.5 or above 25.0 are assessed as underweight and overweight, respectively; indexes in between are considered normal. \n",
    "\n",
    "Please test your function with following test cases,\n",
    ">>> BMI(190, 75)\n",
    "Normal\n",
    ">>> BMI(140, 75)\n",
    "Underweight\n",
    ">>> BMI(240, 75)\n",
    "Overweight"
   ]
  },
  {
   "cell_type": "code",
   "execution_count": 1,
   "metadata": {},
   "outputs": [],
   "source": [
    "# write your code here \n",
    "def BMI(weight, height):\n",
    "    if(((weight*703)/(height**2)) > 25.0):\n",
    "        print(\"Overweight\")\n",
    "    elif(((weight*703)/(height**2)) < 18.5):\n",
    "        print(\"Underweight\")\n",
    "    else:\n",
    "        print(\"Normal\")"
   ]
  },
  {
   "cell_type": "code",
   "execution_count": 2,
   "metadata": {},
   "outputs": [
    {
     "name": "stdout",
     "output_type": "stream",
     "text": [
      "Normal\n"
     ]
    }
   ],
   "source": [
    "BMI(190, 75)  # should print Normal"
   ]
  },
  {
   "cell_type": "code",
   "execution_count": 3,
   "metadata": {},
   "outputs": [
    {
     "name": "stdout",
     "output_type": "stream",
     "text": [
      "Underweight\n"
     ]
    }
   ],
   "source": [
    "BMI(140, 75) "
   ]
  },
  {
   "cell_type": "code",
   "execution_count": 4,
   "metadata": {},
   "outputs": [
    {
     "name": "stdout",
     "output_type": "stream",
     "text": [
      "Overweight\n"
     ]
    }
   ],
   "source": [
    "BMI(240, 75)  "
   ]
  },
  {
   "cell_type": "raw",
   "metadata": {},
   "source": [
    "Q2. (25 points) Write function arithmetic() that:\n",
    "takes as input a list of numbers and\n",
    "returns True if the numbers in the list form an arithmetic sequence, False otherwise\n",
    "\n",
    "Please test your function with following test cases,\n",
    ">>> arithmetic([3, 6, 9, 12, 15]) \n",
    "True\n",
    ">>> arithmetic([3, 6, 9, 11, 14]) \n",
    "False\n",
    ">>> arithmetic([3])\n",
    "True\n"
   ]
  },
  {
   "cell_type": "code",
   "execution_count": 3,
   "metadata": {},
   "outputs": [],
   "source": [
    "# write your code here \n",
    "def arithmetic(arr):\n",
    "    if(len(arr) >= 0 and len(arr) <= 1):\n",
    "        return(True)\n",
    "    elif(len(arr)>1):\n",
    "        diff = arr[1]-arr[0]\n",
    "        count = 0\n",
    "        for i in range(len(arr)-1):\n",
    "            if((arr[i]-arr[i+1])%diff == 0):\n",
    "                count += 1\n",
    "        if(count == len(arr)-1):\n",
    "            return(True)\n",
    "        else:\n",
    "            return(False)"
   ]
  },
  {
   "cell_type": "code",
   "execution_count": 4,
   "metadata": {},
   "outputs": [
    {
     "data": {
      "text/plain": [
       "True"
      ]
     },
     "execution_count": 4,
     "metadata": {},
     "output_type": "execute_result"
    }
   ],
   "source": [
    "arithmetic([3, 6, 9, 12, 15]) "
   ]
  },
  {
   "cell_type": "code",
   "execution_count": 5,
   "metadata": {},
   "outputs": [
    {
     "data": {
      "text/plain": [
       "False"
      ]
     },
     "execution_count": 5,
     "metadata": {},
     "output_type": "execute_result"
    }
   ],
   "source": [
    "arithmetic([3, 6, 9, 11, 14]) "
   ]
  },
  {
   "cell_type": "code",
   "execution_count": 6,
   "metadata": {},
   "outputs": [
    {
     "data": {
      "text/plain": [
       "True"
      ]
     },
     "execution_count": 6,
     "metadata": {},
     "output_type": "execute_result"
    }
   ],
   "source": [
    "arithmetic([3])"
   ]
  },
  {
   "cell_type": "raw",
   "metadata": {},
   "source": [
    "Q3. (25 points) Write function divisors() that:\n",
    "takes a positive integer n as input\n",
    "returns the list of positive divisors of n\n",
    "\n",
    "Please test your function with following test cases,\n",
    ">>> divisors(1)\n",
    "[1]\n",
    ">>> divisors(6)\n",
    "[1, 2, 3, 6]\n",
    ">>> divisors(11)\n",
    "[1, 11]\n"
   ]
  },
  {
   "cell_type": "code",
   "execution_count": 8,
   "metadata": {},
   "outputs": [],
   "source": [
    "# write your code here \n",
    "def divisors(n):\n",
    "    fac = []\n",
    "    for i in range(1, (n // 2) + 1):\n",
    "        if(n % i == 0):\n",
    "            fac.append(i)\n",
    "    fac.append(n)\n",
    "    return(fac)"
   ]
  },
  {
   "cell_type": "code",
   "execution_count": 9,
   "metadata": {},
   "outputs": [
    {
     "data": {
      "text/plain": [
       "[1]"
      ]
     },
     "execution_count": 9,
     "metadata": {},
     "output_type": "execute_result"
    }
   ],
   "source": [
    "divisors(1)"
   ]
  },
  {
   "cell_type": "code",
   "execution_count": 10,
   "metadata": {},
   "outputs": [
    {
     "data": {
      "text/plain": [
       "[1, 2, 3, 6]"
      ]
     },
     "execution_count": 10,
     "metadata": {},
     "output_type": "execute_result"
    }
   ],
   "source": [
    "divisors(6)"
   ]
  },
  {
   "cell_type": "code",
   "execution_count": 11,
   "metadata": {},
   "outputs": [
    {
     "data": {
      "text/plain": [
       "[1, 11]"
      ]
     },
     "execution_count": 11,
     "metadata": {},
     "output_type": "execute_result"
    }
   ],
   "source": [
    "divisors(11)"
   ]
  },
  {
   "cell_type": "raw",
   "metadata": {},
   "source": [
    "Q4. (25 points) Write function bubbleSort() that:\n",
    "takes a list of numbers as input and sorts the list using BubbleSort\n",
    "The function returns nothing\n",
    ">>> lst = [3, 1, 7, 4, 9, 2, 5]\n",
    ">>> bubblesort(lst)\n",
    ">>> lst\n",
    "[1, 2, 3, 4, 5, 7, 9]\n",
    "\n",
    "Tips: \n",
    "If you don't know BubbleSort, please watch this turtorial.\n",
    "https://youtu.be/uJLwnsLn0_Q"
   ]
  },
  {
   "cell_type": "code",
   "execution_count": 13,
   "metadata": {},
   "outputs": [],
   "source": [
    "# write your code here \n",
    "def bubblesort(lis):\n",
    "    for a in range(len(lis)-1):\n",
    "        for b in range(len(lis)-1):\n",
    "            if(lis[b] > lis[b+1]):\n",
    "                temp = lis[b]\n",
    "                lis[b] = lis[b+1]\n",
    "                lis[b+1] = temp"
   ]
  },
  {
   "cell_type": "code",
   "execution_count": 14,
   "metadata": {},
   "outputs": [
    {
     "data": {
      "text/plain": [
       "[1, 2, 3, 4, 5, 7, 9]"
      ]
     },
     "execution_count": 14,
     "metadata": {},
     "output_type": "execute_result"
    }
   ],
   "source": [
    "lst = [3, 1, 7, 4, 9, 2, 5]\n",
    "bubblesort(lst)\n",
    "lst"
   ]
  }
 ],
 "metadata": {
  "kernelspec": {
   "display_name": "Python 3",
   "language": "python",
   "name": "python3"
  },
  "language_info": {
   "codemirror_mode": {
    "name": "ipython",
    "version": 3
   },
   "file_extension": ".py",
   "mimetype": "text/x-python",
   "name": "python",
   "nbconvert_exporter": "python",
   "pygments_lexer": "ipython3",
   "version": "3.8.6"
  }
 },
 "nbformat": 4,
 "nbformat_minor": 4
}

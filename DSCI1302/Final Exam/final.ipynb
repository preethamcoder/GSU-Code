{
 "cells": [
  {
   "cell_type": "markdown",
   "metadata": {},
   "source": [
    "# Final Exam (Section II)\n"
   ]
  },
  {
   "cell_type": "markdown",
   "metadata": {},
   "source": [
    "Exam Time:  **2021/4/21 2:30 - 4:30 pm**. \n",
    "\n",
    "We extend 5 minutes for your submission. That is, you can submit your work to iCollege until **2021/4/21 4:35 pm**. \n",
    "\n",
    "**After 4:35 pm, the submission folder will be closed and NO submission will be accepted.**\n",
    "\n",
    "Notes:\n",
    "1. **Leave enough time for submission.** \n",
    "2. **Periodically save your work** in jupyter notebook by pressing Ctrl/Cmd + S or clicking save button.\n",
    "3. You may submit the document to iCollege mutiple times. **We will only grade the latest one**. \n",
    "4. **Double check the document you submit**. Make sure you submit the correct version. "
   ]
  },
  {
   "cell_type": "markdown",
   "metadata": {},
   "source": [
    "---"
   ]
  },
  {
   "cell_type": "markdown",
   "metadata": {},
   "source": [
    "**Q1.** (20%) Solve following matrix calculations with numpy. (If the matrices are not displayed, select this cell and click \"run\" button.)\n",
    "\n",
    "(a). \n",
    "$\n",
    "\\begin{pmatrix}\n",
    "1.3 & 9.2 & -2.1\\\\\n",
    "5.6 & 3.8 & 0.5\n",
    "\\end{pmatrix}\n",
    "\\begin{pmatrix}\n",
    "1 & 2 \\\\\n",
    "-3 & 4 \\\\\n",
    "5 & 6\n",
    "\\end{pmatrix}\n",
    "$\n",
    "\n",
    "(b). \n",
    "$\n",
    "\\begin{pmatrix}\n",
    "1.3 & 9.2 & -2.1\\\\\n",
    "5.6 & 3.8 & 0.5\n",
    "\\end{pmatrix}\n",
    "+\n",
    "\\begin{pmatrix}\n",
    "1.3 & 9.2 & -2.1\\\\\n",
    "5.6 & 3.8 & 0.5\n",
    "\\end{pmatrix}\n",
    "$\n",
    "\n",
    "(c). \n",
    "$\n",
    "\\begin{pmatrix}\n",
    "1.3 & 9.2 & -2.1\\\\\n",
    "5.6 & 3.8 & 0.5\n",
    "\\end{pmatrix}\n",
    "\\begin{pmatrix}\n",
    "1 & 0 & 0\\\\\n",
    "0 & 1 & 0\\\\\n",
    "0 & 0 & 1\n",
    "\\end{pmatrix}\n",
    "$\n",
    "\n",
    "(d). \n",
    "$\n",
    "\\begin{pmatrix}\n",
    "1 \\\\\n",
    "0 \\\\\n",
    "1 \n",
    "\\end{pmatrix}\n",
    "\\begin{pmatrix}\n",
    "1.3 & 9.2 & -2.1\n",
    "\\end{pmatrix}\n",
    "$"
   ]
  },
  {
   "cell_type": "code",
   "execution_count": 1,
   "metadata": {},
   "outputs": [
    {
     "data": {
      "text/plain": [
       "array([[-36.8,  26.8],\n",
       "       [ -3.3,  29.4]])"
      ]
     },
     "execution_count": 1,
     "metadata": {},
     "output_type": "execute_result"
    }
   ],
   "source": [
    "import numpy as np\n",
    "# (a) Add your code below\n",
    "a = [[1.3, 9.2, -2.1], [5.6, 3.8, 0.5]]\n",
    "b = [[1, 2], [-3, 4], [5, 6]]\n",
    "(np.array(a)).dot(np.array(b))"
   ]
  },
  {
   "cell_type": "code",
   "execution_count": 2,
   "metadata": {},
   "outputs": [
    {
     "data": {
      "text/plain": [
       "array([[ 2.6, 18.4, -4.2],\n",
       "       [11.2,  7.6,  1. ]])"
      ]
     },
     "execution_count": 2,
     "metadata": {},
     "output_type": "execute_result"
    }
   ],
   "source": [
    "# (b) Add your code below\n",
    "a = [[1.3, 9.2, -2.1], [5.6, 3.8, 0.5]]\n",
    "b = [[1.3, 9.2, -2.1], [5.6, 3.8, 0.5]]\n",
    "c = np.array(a) + np.array(b)\n",
    "c"
   ]
  },
  {
   "cell_type": "code",
   "execution_count": 3,
   "metadata": {},
   "outputs": [
    {
     "data": {
      "text/plain": [
       "array([[ 1.3,  9.2, -2.1],\n",
       "       [ 5.6,  3.8,  0.5]])"
      ]
     },
     "execution_count": 3,
     "metadata": {},
     "output_type": "execute_result"
    }
   ],
   "source": [
    "# (c) Add your code below\n",
    "a = [[1.3, 9.2, -2.1], [5.6, 3.8, 0.5]]\n",
    "b = [[1, 0, 0], [0, 1, 0], [0, 0, 1]]\n",
    "(np.array(a)).dot(np.array(b))"
   ]
  },
  {
   "cell_type": "code",
   "execution_count": 4,
   "metadata": {},
   "outputs": [
    {
     "data": {
      "text/plain": [
       "array([[ 1.3,  9.2, -2.1],\n",
       "       [ 0. ,  0. ,  0. ],\n",
       "       [ 1.3,  9.2, -2.1]])"
      ]
     },
     "execution_count": 4,
     "metadata": {},
     "output_type": "execute_result"
    }
   ],
   "source": [
    "# (d) Add your code below\n",
    "a = [[1], [0], [1]]\n",
    "b = [[1.3, 9.2, -2.1]]\n",
    "(np.array(a)).dot(np.array(b))"
   ]
  },
  {
   "cell_type": "markdown",
   "metadata": {},
   "source": [
    "---"
   ]
  },
  {
   "cell_type": "markdown",
   "metadata": {},
   "source": [
    "**Q2.** (20%) Write an interactive program which can plot sin or cos function.\n",
    "\n",
    "Your program should repeatedly ask for function name (either 'sin' or 'cos') and range for the x-axis, and then plot the function in that range.\n",
    "\n",
    "For example,\n",
    "\n",
    "    >>> function name: \n",
    "    sin\n",
    "    >>> range: \n",
    "    -4, 4\n",
    "\n",
    "Then your program should plot sin(x) over range of [-4, 4]. Add necessary labels, legends, titles, etc to make it look nicer. "
   ]
  },
  {
   "cell_type": "code",
   "execution_count": 5,
   "metadata": {},
   "outputs": [
    {
     "name": "stdin",
     "output_type": "stream",
     "text": [
      "function name: cos\n",
      "range: -13, 13\n"
     ]
    },
    {
     "data": {
      "image/png": "[encoded data removed]",
      "text/plain": [
       "<Figure size 432x288 with 1 Axes>"
      ]
     },
     "metadata": {
      "needs_background": "light"
     },
     "output_type": "display_data"
    }
   ],
   "source": [
    "import numpy as np\n",
    "import matplotlib.pyplot as plt\n",
    "# Add your code below\n",
    "a = input(\"function name:\")\n",
    "while((a != \"sin\") and (a != \"cos\")):\n",
    "    a = input(\"You entered an invalid function last time (enter sin or cos). function name:\")\n",
    "b = input(\"range:\")\n",
    "b = b.split(',')\n",
    "#if(a == \"sin\"):\n",
    "low = int(b[0])\n",
    "upp = int(b[1].lstrip())\n",
    "x_ax = np.linspace(low, upp, 200)\n",
    "y_ax = []\n",
    "if(a == \"sin\"):\n",
    "    y_ax = [np.sin(i) for i in x_ax]\n",
    "else:\n",
    "    y_ax = [np.cos(i) for i in x_ax]\n",
    "plt.plot(x_ax, y_ax, \"orange\")\n",
    "plt.grid(color = \"blue\")\n",
    "plt.ylabel(\"$f(x)$\")\n",
    "plt.xlabel(\"$x$\")\n",
    "plt.legend([a+\"(x)\"])\n",
    "plt.title(\"Plotting \"+a+\"(x) over [\"+str(low)+\", \"+str(upp)+\"]\")\n",
    "plt.show()"
   ]
  },
  {
   "cell_type": "markdown",
   "metadata": {},
   "source": [
    "---"
   ]
  },
  {
   "cell_type": "markdown",
   "metadata": {},
   "source": [
    "**Q3.** (20%) (1). Randomly generate a list **X** with 1000 integers between -10 and 20 inclusive. (Hint. You may use either numpy array or python list.)\n",
    "\n",
    "(2). Generate a new list **Y** where each element of **Y** is the square of the corresponding element in **X**.\n",
    "\n",
    "(3). Calculate the frequency of each unique number presented in list **Y**. (Hint. You may use a dictionary to store the number-frequency pair). \n",
    "\n",
    "(4). Sort the number-frequency pairs by number in ascending order.\n",
    "\n",
    "(5). Plot the sorted number-frequency pairs in a bar chart. The x-axis denotes the number and the y-axis denotes the frequency. Add necessary labels, legends, titles, etc to make it look nicer. "
   ]
  },
  {
   "cell_type": "code",
   "execution_count": 6,
   "metadata": {},
   "outputs": [
    {
     "data": {
      "text/plain": [
       "array([  1,  -8,  13,  11,  -7,   4,  -6,  -4,   6,   0,   2,  -9,  -1,\n",
       "        17,  -6,   8,  -8,   3,  15,   4,   9,   3,   3,  17,   2,  17,\n",
       "        -4,  -8,  -6,   5,  10,  -2,  20,  -2,   5,  17,   9,   3,  17,\n",
       "         0,   3,   7,  -3,  -9,  -5,   2,  -9,   8,  -9,  -7,  -2,   1,\n",
       "        -1,  -4,   7,  11,   8,   3, -10,  -9,  15,   8,   1,  -9,  -1,\n",
       "        -6,  12,  17,   9,   1,  11,  -2,  -6,  17,  13,   9,   5,  14,\n",
       "        -8,  -5,  18,  -3,  18,  -4,  -3,  11,   5,   6,  -9,  -7,   8,\n",
       "        -2,  12,   2,  17,  20,   9,  12,  -3,  11,   2,  10,  12,   8,\n",
       "        15,  14,   0,   4,   7,  -6,  11,  13,  -4,   1,   1,   8,  11,\n",
       "        13,  -5,  15,  -7,  -6,  -5,  12,  11,   7,  13,  -1,  15,  -3,\n",
       "        -4,  -7,   4,   2,  13,  13,  20,  -9,  16,  -8,   5,   0,  15,\n",
       "        18,  20,  10,  -7,   5,  -7,  19,  17,   0,  11,   6,   8,   7,\n",
       "        -4,  11,   0,  -6,   6,  -3,  18,  13,   0,  -3,  10,  10,  10,\n",
       "        -1,   2,  -3,  18,  -2,  12,  -6,  -7,   2,  -9,  13,   6,  10,\n",
       "         3,   2,  -3,  -6, -10,  19,  -4,  -1,  14,  -3,   8,   8,  12,\n",
       "         2,  13,  19,   3,  -4,   1,  -6,  -1,  -3,   4,  14,  18,  -1,\n",
       "        -8,  -1,   0,  -3,  14,  -3,  -4,  -1,  16,   6,  15,  -5,   5,\n",
       "        -4,   7,   0,  -9,  -6,  -6,  10,   8,  -7,   6,  10,   4,  -8,\n",
       "         2,  -5,  19,   3,  15,  -6,  18, -10,  -3,  16,  -7,   3,   8,\n",
       "         5,   7,  11,  18,   1,  19,  20,  11,  10, -10,  11, -10,  13,\n",
       "        18,  16,  19,  10,   8,  17,  18,  -5,  -7,  -3,   7,  -9,  15,\n",
       "        -6,   4,  -2,   0,  11, -10,  18,  17,   5,  13,  14,  -8,   0,\n",
       "        10,  -3,  -6,   4,   3,  -2,   1,  10,  -5,   8,  -4,  14,   5,\n",
       "        12,   3,  13,  20,  -7,  20,  15,   3,  19,  17,   0,  -7,  -4,\n",
       "        11,   8,  -8,  -7,   5,  -8,  18,   8,  -1,  -4,  10,  12,   9,\n",
       "        20,  13,   8,  -7,   9,  17, -10,  10,  -2,  -9,  14,  17,  -3,\n",
       "        -6,  12,  16,   9,   7,  14,  16,   0,  -2,  -6,  11,  -5,  15,\n",
       "        -5,   4,  11,  10,  -8,  -5,  -6,  10,   3,  -6,   2,  -5,  -4,\n",
       "         0,   1,   7,  -9,  -9,   6,   1,   7,   0,  16,   0,  12,  -9,\n",
       "         6,   1,  13,  14,   0, -10,  -9,  -8,  12,   2,  -7,   4,  17,\n",
       "         2,   4,  -9,   2,  -9,  17,   2,  -8,  -2,  14,   6,  16,  -9,\n",
       "        14,   1,  -3,   5,  17,  15,  14,  10,  -9,   9,   6,  -3,  15,\n",
       "         0,  12,  -8,  13,  20,   6,  -6,   2,  17,  -2,   4,   4,  -6,\n",
       "         7,  10,  16,  20,  -8,  18,  17,   9,   2,  12,  -7,  -2,  13,\n",
       "         5,  19,  -5,  18,   2,   5,  18,   0,   4,  19,   4,  15,   8,\n",
       "        -4,   9,   2,   2,  18,  16,  12,   3,   0,  -9,  18,  15,   5,\n",
       "         4,   1,   9,  -8,  -7,   1,  -2,   5,  15,   5,  -7,  12,  17,\n",
       "         9,  -1,  -7,  -9,  -3,  16,  -5,  -5,  16,   2,  18,   8,  -4,\n",
       "        12,  -8,   7,   2,   5,   6,  12,  20,  14,  -9,  12,  -6,  10,\n",
       "         6,  15,  -1,  -3,  12,  -6,  12,  20,  17,   2,  20,  -3,  17,\n",
       "        -6,   3,   5,   3,   8,  -4,   8, -10,  15,   6,  -2,  17,  20,\n",
       "        12,  18,   1,  11,  12,  -7,   5,  -8,  -3,   3,  -6,   8,  -4,\n",
       "        13,  -9,  -8,  18,  14, -10,  -2,  -4,  -6,  19,   8,  -7,  10,\n",
       "        -4,  19,   6,   7,   6,   2,   0,  16,   9,   9,  -5,  -7,  17,\n",
       "        -3,  -3,   7,  13,  18,  -8,  14,   8,  15,  19,  17,  -7,  -9,\n",
       "        19,  17,   4,  17,  16,  16,  20,  11,  -3,   9,   9,  -1,   4,\n",
       "         4,  -5,  -4,  19,   3,  14,   3,  10,  18,  -2,   5,   9,   3,\n",
       "         3,   4,  18,   3,  -8,  -1, -10, -10,  -1,  20,   5,  17,   7,\n",
       "        -5,   7,  16,   8, -10,  18,  -1,  -4,  19,  18,  14,  -7,  10,\n",
       "        -9,  -1,  -3,  20,  -7,  -8,   7,   6,  19,   5,  -7,  -7,  17,\n",
       "        16,  15, -10,   2, -10,  15, -10,  10,  20,   7,   6,   8,  13,\n",
       "         7,   5,   2,   1,  -3,  18,   1,  18,  13,  17,   5,  13,  18,\n",
       "        13,  11,  -9,  10,   8,  -7,   6,  20,  12, -10,   9,   2,  -7,\n",
       "        12,  10,   8,   6,  18,  -1,  16,  10,   4,  -1,  -5,  18,  10,\n",
       "        -3,   4,   6,   6,  17,  -2,  17,   7,  -3,   4,  10,  11,   4,\n",
       "        -3,   4,  20,  -9,  -8,  -5,  -7,  -5,  14,   4,  14,  14,  -2,\n",
       "         5,  -2,  -1,  19,   2,  12,   1,  -1,  -9,  -3,  -2,  17,  -5,\n",
       "       -10,  16,  16,   2,  10,  -2,  11,  -2,   5,  -6,  12,   8,  -7,\n",
       "        20,   8,   9,   0,  -4,   0,  -8,  -7,  14,  -7,  -4,  -6,   2,\n",
       "        -6,  11,  17,  17,   3,   9,   0,  18,  13,  14,  -4,  -5,  19,\n",
       "        18,  20,  11,  -9,  13,   7,   5,  -1,  10,  16,  11,  16,   8,\n",
       "        15,  13,   1,   0,   3,  17,   4,  16,  18,  -5,  10,   1,  -4,\n",
       "        12,  -6,   9,  13,  15,  20,  -4,   9,   9,  -2,  17,  11,  17,\n",
       "        -5,   4,  -7,  15,   6,  15,  -7,  15,  -2,  14,  19,   3,  20,\n",
       "        -3,  -6,  20,  14,  15, -10,  10,  -4,  16,  -3,  11,  18,   4,\n",
       "         7,  20,  -4,  18,  12,  20,   0,  -2,  17,  12,   1,  -5,   3,\n",
       "        -6,  -8,  15,  13,   4,  -2,  -3,  14,  16, -10,  13,  -3,   9,\n",
       "        12,   5,  -5,  15,  18,   1,  -7,  -9, -10,   4,  13, -10,   9,\n",
       "        14,  -3,   5,  -2,   9,   3,  12,  16,  14,   0,   3,  11, -10,\n",
       "        -1,  12,   0,  -2,  12,   0, -10,  16,   1,   6,  12,   2,  -7,\n",
       "        -9,   9,  -6,  -4,   4,  11,   9,   7,  19,  13,  15,  13,  13,\n",
       "        15,  12, -10,   7,   5,  15,   1,  13,  19,   4,   5,   7,  15,\n",
       "         6,  -6,  17, -10,  -7,   9,  -9,   2,  -8,  14,  20,   2,  10,\n",
       "        13,  -9, -10,  13,  12,   0, -10,   9,  11,  16,  -9,  -6,   6,\n",
       "        -6,  -1,  10,  20,   1,  11,  12,  -3,  -4,  -4,   7,  13,  14,\n",
       "         7,  13,   4,   8,  13,  11,  19,   5,   3,  14,   4,  14,  -4,\n",
       "         1,   3,  20,  -2,  -4,  17,  -4,   4,  -2,   9,   2,  11])"
      ]
     },
     "execution_count": 6,
     "metadata": {},
     "output_type": "execute_result"
    }
   ],
   "source": [
    "# (1) Add your code below\n",
    "import numpy as np\n",
    "import matplotlib.pyplot as plt\n",
    "X = np.array(np.random.randint(-10, 21, 1000))\n",
    "X"
   ]
  },
  {
   "cell_type": "code",
   "execution_count": 7,
   "metadata": {},
   "outputs": [
    {
     "data": {
      "text/plain": [
       "array([  1,  64, 169, 121,  49,  16,  36,  16,  36,   0,   4,  81,   1,\n",
       "       289,  36,  64,  64,   9, 225,  16,  81,   9,   9, 289,   4, 289,\n",
       "        16,  64,  36,  25, 100,   4, 400,   4,  25, 289,  81,   9, 289,\n",
       "         0,   9,  49,   9,  81,  25,   4,  81,  64,  81,  49,   4,   1,\n",
       "         1,  16,  49, 121,  64,   9, 100,  81, 225,  64,   1,  81,   1,\n",
       "        36, 144, 289,  81,   1, 121,   4,  36, 289, 169,  81,  25, 196,\n",
       "        64,  25, 324,   9, 324,  16,   9, 121,  25,  36,  81,  49,  64,\n",
       "         4, 144,   4, 289, 400,  81, 144,   9, 121,   4, 100, 144,  64,\n",
       "       225, 196,   0,  16,  49,  36, 121, 169,  16,   1,   1,  64, 121,\n",
       "       169,  25, 225,  49,  36,  25, 144, 121,  49, 169,   1, 225,   9,\n",
       "        16,  49,  16,   4, 169, 169, 400,  81, 256,  64,  25,   0, 225,\n",
       "       324, 400, 100,  49,  25,  49, 361, 289,   0, 121,  36,  64,  49,\n",
       "        16, 121,   0,  36,  36,   9, 324, 169,   0,   9, 100, 100, 100,\n",
       "         1,   4,   9, 324,   4, 144,  36,  49,   4,  81, 169,  36, 100,\n",
       "         9,   4,   9,  36, 100, 361,  16,   1, 196,   9,  64,  64, 144,\n",
       "         4, 169, 361,   9,  16,   1,  36,   1,   9,  16, 196, 324,   1,\n",
       "        64,   1,   0,   9, 196,   9,  16,   1, 256,  36, 225,  25,  25,\n",
       "        16,  49,   0,  81,  36,  36, 100,  64,  49,  36, 100,  16,  64,\n",
       "         4,  25, 361,   9, 225,  36, 324, 100,   9, 256,  49,   9,  64,\n",
       "        25,  49, 121, 324,   1, 361, 400, 121, 100, 100, 121, 100, 169,\n",
       "       324, 256, 361, 100,  64, 289, 324,  25,  49,   9,  49,  81, 225,\n",
       "        36,  16,   4,   0, 121, 100, 324, 289,  25, 169, 196,  64,   0,\n",
       "       100,   9,  36,  16,   9,   4,   1, 100,  25,  64,  16, 196,  25,\n",
       "       144,   9, 169, 400,  49, 400, 225,   9, 361, 289,   0,  49,  16,\n",
       "       121,  64,  64,  49,  25,  64, 324,  64,   1,  16, 100, 144,  81,\n",
       "       400, 169,  64,  49,  81, 289, 100, 100,   4,  81, 196, 289,   9,\n",
       "        36, 144, 256,  81,  49, 196, 256,   0,   4,  36, 121,  25, 225,\n",
       "        25,  16, 121, 100,  64,  25,  36, 100,   9,  36,   4,  25,  16,\n",
       "         0,   1,  49,  81,  81,  36,   1,  49,   0, 256,   0, 144,  81,\n",
       "        36,   1, 169, 196,   0, 100,  81,  64, 144,   4,  49,  16, 289,\n",
       "         4,  16,  81,   4,  81, 289,   4,  64,   4, 196,  36, 256,  81,\n",
       "       196,   1,   9,  25, 289, 225, 196, 100,  81,  81,  36,   9, 225,\n",
       "         0, 144,  64, 169, 400,  36,  36,   4, 289,   4,  16,  16,  36,\n",
       "        49, 100, 256, 400,  64, 324, 289,  81,   4, 144,  49,   4, 169,\n",
       "        25, 361,  25, 324,   4,  25, 324,   0,  16, 361,  16, 225,  64,\n",
       "        16,  81,   4,   4, 324, 256, 144,   9,   0,  81, 324, 225,  25,\n",
       "        16,   1,  81,  64,  49,   1,   4,  25, 225,  25,  49, 144, 289,\n",
       "        81,   1,  49,  81,   9, 256,  25,  25, 256,   4, 324,  64,  16,\n",
       "       144,  64,  49,   4,  25,  36, 144, 400, 196,  81, 144,  36, 100,\n",
       "        36, 225,   1,   9, 144,  36, 144, 400, 289,   4, 400,   9, 289,\n",
       "        36,   9,  25,   9,  64,  16,  64, 100, 225,  36,   4, 289, 400,\n",
       "       144, 324,   1, 121, 144,  49,  25,  64,   9,   9,  36,  64,  16,\n",
       "       169,  81,  64, 324, 196, 100,   4,  16,  36, 361,  64,  49, 100,\n",
       "        16, 361,  36,  49,  36,   4,   0, 256,  81,  81,  25,  49, 289,\n",
       "         9,   9,  49, 169, 324,  64, 196,  64, 225, 361, 289,  49,  81,\n",
       "       361, 289,  16, 289, 256, 256, 400, 121,   9,  81,  81,   1,  16,\n",
       "        16,  25,  16, 361,   9, 196,   9, 100, 324,   4,  25,  81,   9,\n",
       "         9,  16, 324,   9,  64,   1, 100, 100,   1, 400,  25, 289,  49,\n",
       "        25,  49, 256,  64, 100, 324,   1,  16, 361, 324, 196,  49, 100,\n",
       "        81,   1,   9, 400,  49,  64,  49,  36, 361,  25,  49,  49, 289,\n",
       "       256, 225, 100,   4, 100, 225, 100, 100, 400,  49,  36,  64, 169,\n",
       "        49,  25,   4,   1,   9, 324,   1, 324, 169, 289,  25, 169, 324,\n",
       "       169, 121,  81, 100,  64,  49,  36, 400, 144, 100,  81,   4,  49,\n",
       "       144, 100,  64,  36, 324,   1, 256, 100,  16,   1,  25, 324, 100,\n",
       "         9,  16,  36,  36, 289,   4, 289,  49,   9,  16, 100, 121,  16,\n",
       "         9,  16, 400,  81,  64,  25,  49,  25, 196,  16, 196, 196,   4,\n",
       "        25,   4,   1, 361,   4, 144,   1,   1,  81,   9,   4, 289,  25,\n",
       "       100, 256, 256,   4, 100,   4, 121,   4,  25,  36, 144,  64,  49,\n",
       "       400,  64,  81,   0,  16,   0,  64,  49, 196,  49,  16,  36,   4,\n",
       "        36, 121, 289, 289,   9,  81,   0, 324, 169, 196,  16,  25, 361,\n",
       "       324, 400, 121,  81, 169,  49,  25,   1, 100, 256, 121, 256,  64,\n",
       "       225, 169,   1,   0,   9, 289,  16, 256, 324,  25, 100,   1,  16,\n",
       "       144,  36,  81, 169, 225, 400,  16,  81,  81,   4, 289, 121, 289,\n",
       "        25,  16,  49, 225,  36, 225,  49, 225,   4, 196, 361,   9, 400,\n",
       "         9,  36, 400, 196, 225, 100, 100,  16, 256,   9, 121, 324,  16,\n",
       "        49, 400,  16, 324, 144, 400,   0,   4, 289, 144,   1,  25,   9,\n",
       "        36,  64, 225, 169,  16,   4,   9, 196, 256, 100, 169,   9,  81,\n",
       "       144,  25,  25, 225, 324,   1,  49,  81, 100,  16, 169, 100,  81,\n",
       "       196,   9,  25,   4,  81,   9, 144, 256, 196,   0,   9, 121, 100,\n",
       "         1, 144,   0,   4, 144,   0, 100, 256,   1,  36, 144,   4,  49,\n",
       "        81,  81,  36,  16,  16, 121,  81,  49, 361, 169, 225, 169, 169,\n",
       "       225, 144, 100,  49,  25, 225,   1, 169, 361,  16,  25,  49, 225,\n",
       "        36,  36, 289, 100,  49,  81,  81,   4,  64, 196, 400,   4, 100,\n",
       "       169,  81, 100, 169, 144,   0, 100,  81, 121, 256,  81,  36,  36,\n",
       "        36,   1, 100, 400,   1, 121, 144,   9,  16,  16,  49, 169, 196,\n",
       "        49, 169,  16,  64, 169, 121, 361,  25,   9, 196,  16, 196,  16,\n",
       "         1,   9, 400,   4,  16, 289,  16,  16,   4,  81,   4, 121])"
      ]
     },
     "execution_count": 7,
     "metadata": {},
     "output_type": "execute_result"
    }
   ],
   "source": [
    "# (2) Add your code below\n",
    "Y = X*X\n",
    "Y"
   ]
  },
  {
   "cell_type": "code",
   "execution_count": 8,
   "metadata": {},
   "outputs": [
    {
     "data": {
      "text/plain": [
       "{1: 52,\n",
       " 64: 58,\n",
       " 169: 39,\n",
       " 121: 33,\n",
       " 49: 67,\n",
       " 16: 72,\n",
       " 36: 64,\n",
       " 0: 30,\n",
       " 4: 66,\n",
       " 81: 67,\n",
       " 289: 41,\n",
       " 9: 69,\n",
       " 225: 33,\n",
       " 25: 60,\n",
       " 100: 63,\n",
       " 400: 30,\n",
       " 144: 38,\n",
       " 196: 32,\n",
       " 324: 36,\n",
       " 256: 28,\n",
       " 361: 22}"
      ]
     },
     "execution_count": 8,
     "metadata": {},
     "output_type": "execute_result"
    }
   ],
   "source": [
    "# (3) Add your code below\n",
    "freq = {}\n",
    "for i in Y:\n",
    "    if i in freq:\n",
    "        freq[i] += 1\n",
    "    else:\n",
    "        freq[i] = 1\n",
    "freq"
   ]
  },
  {
   "cell_type": "code",
   "execution_count": 9,
   "metadata": {},
   "outputs": [
    {
     "data": {
      "text/plain": [
       "[(0, 30),\n",
       " (1, 52),\n",
       " (4, 66),\n",
       " (9, 69),\n",
       " (16, 72),\n",
       " (25, 60),\n",
       " (36, 64),\n",
       " (49, 67),\n",
       " (64, 58),\n",
       " (81, 67),\n",
       " (100, 63),\n",
       " (121, 33),\n",
       " (144, 38),\n",
       " (169, 39),\n",
       " (196, 32),\n",
       " (225, 33),\n",
       " (256, 28),\n",
       " (289, 41),\n",
       " (324, 36),\n",
       " (361, 22),\n",
       " (400, 30)]"
      ]
     },
     "execution_count": 9,
     "metadata": {},
     "output_type": "execute_result"
    }
   ],
   "source": [
    "# (4) Add your code below\n",
    "freq_item = freq.items()\n",
    "sorted_freq = sorted(freq_item)\n",
    "sorted_freq"
   ]
  },
  {
   "cell_type": "code",
   "execution_count": 10,
   "metadata": {},
   "outputs": [
    {
     "data": {
      "image/png": "[encoded data removed]",
      "text/plain": [
       "<Figure size 432x288 with 1 Axes>"
      ]
     },
     "metadata": {
      "needs_background": "light"
     },
     "output_type": "display_data"
    }
   ],
   "source": [
    "# (5) Add your code below\n",
    "x_ax = []\n",
    "y_ax = []\n",
    "for i in sorted_freq:\n",
    "    x_ax.append(str(i[0]))\n",
    "    y_ax.append(i[1])\n",
    "plt.bar(x_ax, y_ax, color=\"green\")\n",
    "plt.ylabel(\"Frequency\")\n",
    "plt.xlabel(\"Number\")\n",
    "plt.title(\"Number-Frequency chart of random numbers\")\n",
    "plt.grid(color=\"yellow\")\n",
    "plt.legend([\"1 sq = 10 times\"])\n",
    "plt.show()"
   ]
  },
  {
   "cell_type": "markdown",
   "metadata": {},
   "source": [
    "---"
   ]
  },
  {
   "cell_type": "markdown",
   "metadata": {},
   "source": [
    "**Q4.** (40%) \n",
    "(1). Use pandas to read in file adult.csv (attached) as a data frame. Print the number of rows and columns of the data frame.\n",
    "\n",
    "(2). What is the average hours-per-week among people who are less than 25 years old? \n",
    "\n",
    "(3). Sort the data frame by column 'age' in ascending order. \n",
    "\n",
    "(4). What are the mean and standard deviation of 'capital-gain' among people who earn more than 50K? \n",
    "     What are the mean and standard deviation of 'capital-gain' among people who earn less or equal to 50K?\n",
    "     \n",
    "(5). What is the proportion of people who earn money from capital market (i.e. their capital gains are positive)?\n",
    "\n",
    "(6). Rename the column 'class' to 'income'.\n",
    "\n",
    "(7). Plot a scatter chart. The x-axis denotes the age, and the y-axis denotes hours-per-week. \n",
    "     Use different colors to denote the capital-gain. Use the \"summer\" color map. Add a color bar to the right of the plot.\n",
    "     Add necessary labels, legends, titles, etc to make it look nicer. "
   ]
  },
  {
   "cell_type": "code",
   "execution_count": 11,
   "metadata": {},
   "outputs": [
    {
     "name": "stdout",
     "output_type": "stream",
     "text": [
      "Rows = 9769\n",
      "Columns = 5\n"
     ]
    }
   ],
   "source": [
    "import pandas as pd\n",
    "# (1) Add your code below\n",
    "data = pd.read_csv(\"adult.csv\")\n",
    "print(\"Rows =\", data.shape[0])\n",
    "print(\"Columns =\", data.shape[1])\n",
    "#data"
   ]
  },
  {
   "cell_type": "code",
   "execution_count": 12,
   "metadata": {},
   "outputs": [
    {
     "name": "stdout",
     "output_type": "stream",
     "text": [
      "Average hours per week: 33.06495026331188\n"
     ]
    }
   ],
   "source": [
    "# (2) Add your code below\n",
    "age = data['age'].tolist()\n",
    "hours_week = data['hours-per-week'].tolist()\n",
    "ind = []\n",
    "for i in range(len(age)):\n",
    "    if(age[i] < 25):\n",
    "        ind.append(i)\n",
    "s = []\n",
    "for i in ind:\n",
    "    s.append(hours_week[i])\n",
    "print(\"Average hours per week:\", np.mean(s))"
   ]
  },
  {
   "cell_type": "code",
   "execution_count": 13,
   "metadata": {},
   "outputs": [
    {
     "data": {
      "text/html": [
       "<div>\n",
       "<style scoped>\n",
       "    .dataframe tbody tr th:only-of-type {\n",
       "        vertical-align: middle;\n",
       "    }\n",
       "\n",
       "    .dataframe tbody tr th {\n",
       "        vertical-align: top;\n",
       "    }\n",
       "\n",
       "    .dataframe thead th {\n",
       "        text-align: right;\n",
       "    }\n",
       "</style>\n",
       "<table border=\"1\" class=\"dataframe\">\n",
       "  <thead>\n",
       "    <tr style=\"text-align: right;\">\n",
       "      <th></th>\n",
       "      <th>age</th>\n",
       "      <th>capital-gain</th>\n",
       "      <th>capital-loss</th>\n",
       "      <th>hours-per-week</th>\n",
       "      <th>class</th>\n",
       "    </tr>\n",
       "  </thead>\n",
       "  <tbody>\n",
       "    <tr>\n",
       "      <th>4409</th>\n",
       "      <td>17</td>\n",
       "      <td>0</td>\n",
       "      <td>0</td>\n",
       "      <td>12</td>\n",
       "      <td>&lt;=50K</td>\n",
       "    </tr>\n",
       "    <tr>\n",
       "      <th>3272</th>\n",
       "      <td>17</td>\n",
       "      <td>0</td>\n",
       "      <td>0</td>\n",
       "      <td>15</td>\n",
       "      <td>&lt;=50K</td>\n",
       "    </tr>\n",
       "    <tr>\n",
       "      <th>6494</th>\n",
       "      <td>17</td>\n",
       "      <td>0</td>\n",
       "      <td>0</td>\n",
       "      <td>16</td>\n",
       "      <td>&lt;=50K</td>\n",
       "    </tr>\n",
       "    <tr>\n",
       "      <th>1971</th>\n",
       "      <td>17</td>\n",
       "      <td>0</td>\n",
       "      <td>0</td>\n",
       "      <td>12</td>\n",
       "      <td>&lt;=50K</td>\n",
       "    </tr>\n",
       "    <tr>\n",
       "      <th>1953</th>\n",
       "      <td>17</td>\n",
       "      <td>0</td>\n",
       "      <td>0</td>\n",
       "      <td>20</td>\n",
       "      <td>&lt;=50K</td>\n",
       "    </tr>\n",
       "    <tr>\n",
       "      <th>...</th>\n",
       "      <td>...</td>\n",
       "      <td>...</td>\n",
       "      <td>...</td>\n",
       "      <td>...</td>\n",
       "      <td>...</td>\n",
       "    </tr>\n",
       "    <tr>\n",
       "      <th>3635</th>\n",
       "      <td>90</td>\n",
       "      <td>0</td>\n",
       "      <td>0</td>\n",
       "      <td>37</td>\n",
       "      <td>&lt;=50K</td>\n",
       "    </tr>\n",
       "    <tr>\n",
       "      <th>9546</th>\n",
       "      <td>90</td>\n",
       "      <td>0</td>\n",
       "      <td>0</td>\n",
       "      <td>30</td>\n",
       "      <td>&lt;=50K</td>\n",
       "    </tr>\n",
       "    <tr>\n",
       "      <th>4823</th>\n",
       "      <td>90</td>\n",
       "      <td>11678</td>\n",
       "      <td>0</td>\n",
       "      <td>40</td>\n",
       "      <td>&gt;50K</td>\n",
       "    </tr>\n",
       "    <tr>\n",
       "      <th>1779</th>\n",
       "      <td>90</td>\n",
       "      <td>0</td>\n",
       "      <td>0</td>\n",
       "      <td>40</td>\n",
       "      <td>&lt;=50K</td>\n",
       "    </tr>\n",
       "    <tr>\n",
       "      <th>6535</th>\n",
       "      <td>90</td>\n",
       "      <td>10566</td>\n",
       "      <td>0</td>\n",
       "      <td>50</td>\n",
       "      <td>&lt;=50K</td>\n",
       "    </tr>\n",
       "  </tbody>\n",
       "</table>\n",
       "<p>9769 rows × 5 columns</p>\n",
       "</div>"
      ],
      "text/plain": [
       "      age  capital-gain  capital-loss  hours-per-week   class\n",
       "4409   17             0             0              12   <=50K\n",
       "3272   17             0             0              15   <=50K\n",
       "6494   17             0             0              16   <=50K\n",
       "1971   17             0             0              12   <=50K\n",
       "1953   17             0             0              20   <=50K\n",
       "...   ...           ...           ...             ...     ...\n",
       "3635   90             0             0              37   <=50K\n",
       "9546   90             0             0              30   <=50K\n",
       "4823   90         11678             0              40    >50K\n",
       "1779   90             0             0              40   <=50K\n",
       "6535   90         10566             0              50   <=50K\n",
       "\n",
       "[9769 rows x 5 columns]"
      ]
     },
     "execution_count": 13,
     "metadata": {},
     "output_type": "execute_result"
    }
   ],
   "source": [
    "# (3) Add your code below\n",
    "data.sort_values(by=['age'])"
   ]
  },
  {
   "cell_type": "code",
   "execution_count": 14,
   "metadata": {},
   "outputs": [
    {
     "name": "stdout",
     "output_type": "stream",
     "text": [
      "Mean of people earning higher than 50K: 3595.7927659574466\n",
      "STD of people earning higher than 50K: 12803.428777763665\n",
      "Mean of people earning lower than or exactly 50K: 139.9249224962933\n",
      "STD of people earning lower than or exactly 50K: 839.2071124553283\n"
     ]
    }
   ],
   "source": [
    "# (4) Add your code below\n",
    "inc = data['class'].tolist()\n",
    "cap_gain = data['capital-gain'].tolist()\n",
    "low = []\n",
    "high = []\n",
    "for i in range(len(inc)):\n",
    "    if(inc[i] == ' <=50K'):\n",
    "        low.append(i)\n",
    "    else:\n",
    "        high.append(i)\n",
    "cap_gain_l = []\n",
    "cap_gain_h = []\n",
    "for i in low:\n",
    "    cap_gain_l.append(cap_gain[i])\n",
    "for i in high:\n",
    "    cap_gain_h.append(cap_gain[i])\n",
    "cap_gain_l = np.array(cap_gain_l)\n",
    "cap_gain_h = np.array(cap_gain_h)\n",
    "print(\"Mean of people earning higher than 50K:\",np.mean(cap_gain_h))\n",
    "print(\"STD of people earning higher than 50K:\", np.std(cap_gain_h))\n",
    "print(\"Mean of people earning lower than or exactly 50K:\",np.mean(cap_gain_l))\n",
    "print(\"STD of people earning lower than or exactly 50K:\", np.std(cap_gain_l))"
   ]
  },
  {
   "cell_type": "code",
   "execution_count": 15,
   "metadata": {},
   "outputs": [
    {
     "name": "stdout",
     "output_type": "stream",
     "text": [
      "806 people have positive capital gain in 9769 total people.\n",
      "That makes 8.250588596581022% of the population in the dataframe.\n"
     ]
    }
   ],
   "source": [
    "# (5) Add your code below\n",
    "#I assued proportion meant the number of people who had a positive capital gain. It was not every clear in the question :(\n",
    "count = 0 \n",
    "for i in cap_gain:\n",
    "    if(i > 0):\n",
    "        count += 1\n",
    "print(count,\"people have positive capital gain in\", str(len(cap_gain))+\" total people.\")\n",
    "print(\"That makes\", str(100*count/len(cap_gain))+\"% of the population in the dataframe.\")"
   ]
  },
  {
   "cell_type": "code",
   "execution_count": 16,
   "metadata": {},
   "outputs": [
    {
     "data": {
      "text/html": [
       "<div>\n",
       "<style scoped>\n",
       "    .dataframe tbody tr th:only-of-type {\n",
       "        vertical-align: middle;\n",
       "    }\n",
       "\n",
       "    .dataframe tbody tr th {\n",
       "        vertical-align: top;\n",
       "    }\n",
       "\n",
       "    .dataframe thead th {\n",
       "        text-align: right;\n",
       "    }\n",
       "</style>\n",
       "<table border=\"1\" class=\"dataframe\">\n",
       "  <thead>\n",
       "    <tr style=\"text-align: right;\">\n",
       "      <th></th>\n",
       "      <th>age</th>\n",
       "      <th>capital-gain</th>\n",
       "      <th>capital-loss</th>\n",
       "      <th>hours-per-week</th>\n",
       "      <th>income</th>\n",
       "    </tr>\n",
       "  </thead>\n",
       "  <tbody>\n",
       "    <tr>\n",
       "      <th>0</th>\n",
       "      <td>20</td>\n",
       "      <td>0</td>\n",
       "      <td>0</td>\n",
       "      <td>35</td>\n",
       "      <td>&lt;=50K</td>\n",
       "    </tr>\n",
       "    <tr>\n",
       "      <th>1</th>\n",
       "      <td>53</td>\n",
       "      <td>0</td>\n",
       "      <td>0</td>\n",
       "      <td>72</td>\n",
       "      <td>&gt;50K</td>\n",
       "    </tr>\n",
       "    <tr>\n",
       "      <th>2</th>\n",
       "      <td>41</td>\n",
       "      <td>0</td>\n",
       "      <td>0</td>\n",
       "      <td>50</td>\n",
       "      <td>&gt;50K</td>\n",
       "    </tr>\n",
       "    <tr>\n",
       "      <th>3</th>\n",
       "      <td>20</td>\n",
       "      <td>0</td>\n",
       "      <td>0</td>\n",
       "      <td>40</td>\n",
       "      <td>&lt;=50K</td>\n",
       "    </tr>\n",
       "    <tr>\n",
       "      <th>4</th>\n",
       "      <td>25</td>\n",
       "      <td>0</td>\n",
       "      <td>0</td>\n",
       "      <td>40</td>\n",
       "      <td>&lt;=50K</td>\n",
       "    </tr>\n",
       "    <tr>\n",
       "      <th>...</th>\n",
       "      <td>...</td>\n",
       "      <td>...</td>\n",
       "      <td>...</td>\n",
       "      <td>...</td>\n",
       "      <td>...</td>\n",
       "    </tr>\n",
       "    <tr>\n",
       "      <th>9764</th>\n",
       "      <td>30</td>\n",
       "      <td>0</td>\n",
       "      <td>0</td>\n",
       "      <td>49</td>\n",
       "      <td>&lt;=50K</td>\n",
       "    </tr>\n",
       "    <tr>\n",
       "      <th>9765</th>\n",
       "      <td>57</td>\n",
       "      <td>0</td>\n",
       "      <td>0</td>\n",
       "      <td>50</td>\n",
       "      <td>&gt;50K</td>\n",
       "    </tr>\n",
       "    <tr>\n",
       "      <th>9766</th>\n",
       "      <td>63</td>\n",
       "      <td>0</td>\n",
       "      <td>0</td>\n",
       "      <td>35</td>\n",
       "      <td>&lt;=50K</td>\n",
       "    </tr>\n",
       "    <tr>\n",
       "      <th>9767</th>\n",
       "      <td>59</td>\n",
       "      <td>0</td>\n",
       "      <td>0</td>\n",
       "      <td>40</td>\n",
       "      <td>&lt;=50K</td>\n",
       "    </tr>\n",
       "    <tr>\n",
       "      <th>9768</th>\n",
       "      <td>42</td>\n",
       "      <td>0</td>\n",
       "      <td>0</td>\n",
       "      <td>35</td>\n",
       "      <td>&lt;=50K</td>\n",
       "    </tr>\n",
       "  </tbody>\n",
       "</table>\n",
       "<p>9769 rows × 5 columns</p>\n",
       "</div>"
      ],
      "text/plain": [
       "      age  capital-gain  capital-loss  hours-per-week  income\n",
       "0      20             0             0              35   <=50K\n",
       "1      53             0             0              72    >50K\n",
       "2      41             0             0              50    >50K\n",
       "3      20             0             0              40   <=50K\n",
       "4      25             0             0              40   <=50K\n",
       "...   ...           ...           ...             ...     ...\n",
       "9764   30             0             0              49   <=50K\n",
       "9765   57             0             0              50    >50K\n",
       "9766   63             0             0              35   <=50K\n",
       "9767   59             0             0              40   <=50K\n",
       "9768   42             0             0              35   <=50K\n",
       "\n",
       "[9769 rows x 5 columns]"
      ]
     },
     "execution_count": 16,
     "metadata": {},
     "output_type": "execute_result"
    }
   ],
   "source": [
    "# (6) Add your code below\n",
    "data = data.rename(columns={'class':'income'})\n",
    "data"
   ]
  },
  {
   "cell_type": "code",
   "execution_count": 17,
   "metadata": {},
   "outputs": [
    {
     "data": {
      "image/png": "[encoded data removed]",
      "text/plain": [
       "<Figure size 432x288 with 2 Axes>"
      ]
     },
     "metadata": {
      "needs_background": "light"
     },
     "output_type": "display_data"
    }
   ],
   "source": [
    "# (7) Add your code below\n",
    "#We were asked to show capital gain, but told to plot age and working hours. This does not make sense.\n",
    "plt.scatter(age[:2000], hours_week[:2000], color=\"chartreuse\")\n",
    "plt.scatter(age[2000:4001], hours_week[2000:4001], color=\"yellow\")\n",
    "plt.scatter(age[4001:6001], hours_week[4001:6001], color=\"springgreen\")\n",
    "plt.scatter(age[6001:8000], hours_week[6001:8000], color=\"green\")\n",
    "plt.scatter(age[8001:], hours_week[8001:], color=\"lightgreen\")\n",
    "plt.ylabel(\"Hours-Per-Week\")\n",
    "plt.xlabel(\"Age\")\n",
    "plt.title(\"Hours-Per-Week based on Age\")\n",
    "plt.summer()\n",
    "plt.colorbar()\n",
    "plt.show()"
   ]
  }
 ],
 "metadata": {
  "kernelspec": {
   "display_name": "Python 3",
   "language": "python",
   "name": "python3"
  },
  "language_info": {
   "codemirror_mode": {
    "name": "ipython",
    "version": 3
   },
   "file_extension": ".py",
   "mimetype": "text/x-python",
   "name": "python",
   "nbconvert_exporter": "python",
   "pygments_lexer": "ipython3",
   "version": "3.8.9"
  }
 },
 "nbformat": 4,
 "nbformat_minor": 4
}

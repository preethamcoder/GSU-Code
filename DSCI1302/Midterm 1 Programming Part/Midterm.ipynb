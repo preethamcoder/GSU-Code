{
 "cells": [
  {
   "cell_type": "markdown",
   "metadata": {},
   "source": [
    "# Midterm Exam (Section II)"
   ]
  },
  {
   "cell_type": "markdown",
   "metadata": {},
   "source": [
    "Exam Time:  **2021/2/24 2:30 - 4:30 pm**. \n",
    "\n",
    "We extend 5 minutes for your submission. That is, you can submit your work to iCollege until **2021/2/24 4:35 pm**. \n",
    "\n",
    "**After 4:35 pm, the submission folder will be closed and NO submission will be accepted.**\n",
    "\n",
    "Notes:\n",
    "1. **Leave enough time for submission.** \n",
    "2. **Periodically save your work** in jupyter notebook by pressing Ctrl/Cmd + S or clicking save button.\n",
    "3. You may submit the document to iCollege mutiple times. **We will only grade the latest one**. \n",
    "4. **Double check the document you submit**. Make sure you submit the correct version. "
   ]
  },
  {
   "cell_type": "raw",
   "metadata": {},
   "source": [
    "# Q1. (30%) Write function negative() that:\n",
    "accepts only ONE arguement, that is, a list of numbers, and\n",
    "returns the index of the first negative number in the list or -1 if there is no negative number in the list.\n",
    "\n",
    "Note: Do not print anything inside the function.\n",
    "\n",
    "Please test your function with following test case,\n",
    ">>> lst = [3, 1, -7, -4, 9, -2]\n",
    ">>> negative(lst)\n",
    "2\n",
    ">>> negative([1, 2, 3])\n",
    "-1\n"
   ]
  },
  {
   "cell_type": "code",
   "execution_count": 75,
   "metadata": {},
   "outputs": [],
   "source": [
    "# write your code here\n",
    "def negative(lis):\n",
    "    for i in lis:\n",
    "        if(i < 0):\n",
    "            return lis.index(i)\n",
    "    return -1"
   ]
  },
  {
   "cell_type": "code",
   "execution_count": 76,
   "metadata": {},
   "outputs": [
    {
     "data": {
      "text/plain": [
       "2"
      ]
     },
     "execution_count": 76,
     "metadata": {},
     "output_type": "execute_result"
    }
   ],
   "source": [
    "# test your code here\n",
    "lst = [3, 1, -7, -4, 9, -2]\n",
    "negative(lst)"
   ]
  },
  {
   "cell_type": "code",
   "execution_count": 77,
   "metadata": {},
   "outputs": [
    {
     "data": {
      "text/plain": [
       "-1"
      ]
     },
     "execution_count": 77,
     "metadata": {},
     "output_type": "execute_result"
    }
   ],
   "source": [
    "negative([1, 2, 3])"
   ]
  },
  {
   "cell_type": "raw",
   "metadata": {},
   "source": [
    "Q2. (30%) Write function pairSum() that takes only two arguments: \n",
    "a list of numbers and a target value,\n",
    "and prints all pairs of values in the list that add up to the target value.\n",
    "\n",
    "Note: both numbers in a pair should be in the list.\n",
    "\n",
    "Please test your function with following test case,\n",
    ">>> pairSum([7, 8, 5, 3, 4, 6, 1, 2], 11)\n",
    "7 4\n",
    "8 3\n",
    "5 6\n",
    "3 8\n",
    "4 7\n",
    "6 5"
   ]
  },
  {
   "cell_type": "code",
   "execution_count": 78,
   "metadata": {},
   "outputs": [],
   "source": [
    "# write your code here\n",
    "def pairSum(lis, tar):\n",
    "    for i in range(len(lis)):\n",
    "        for j in range(len(lis)):\n",
    "            if(lis[i] + lis[j] == tar):\n",
    "                print(lis[i], lis[j])"
   ]
  },
  {
   "cell_type": "code",
   "execution_count": 79,
   "metadata": {},
   "outputs": [
    {
     "name": "stdout",
     "output_type": "stream",
     "text": [
      "7 4\n",
      "8 3\n",
      "5 6\n",
      "3 8\n",
      "4 7\n",
      "6 5\n"
     ]
    }
   ],
   "source": [
    "# test your code here\n",
    "pairSum([7, 8, 5, 3, 4, 6, 1, 2], 11)"
   ]
  },
  {
   "cell_type": "raw",
   "metadata": {},
   "source": [
    "Q3. (40%) Randomly generate a list with 1000 numbers between 1 and 50 inclusive. Then, calculate the frequency of each unique number presented in the list.\n",
    "Plese print the output as a dictionary (the key should be the unique number, and the value is the frequency)."
   ]
  },
  {
   "cell_type": "code",
   "execution_count": 80,
   "metadata": {},
   "outputs": [
    {
     "name": "stdout",
     "output_type": "stream",
     "text": [
      "{43: 20, 15: 30, 27: 16, 40: 24, 39: 24, 2: 15, 26: 17, 23: 20, 12: 13, 9: 18, 16: 27, 44: 21, 49: 19, 3: 17, 21: 17, 6: 28, 38: 17, 14: 31, 24: 17, 36: 18, 11: 21, 28: 17, 22: 21, 45: 21, 17: 18, 7: 24, 29: 18, 18: 24, 42: 23, 31: 19, 19: 28, 37: 23, 34: 21, 48: 19, 13: 16, 20: 23, 41: 18, 8: 22, 4: 20, 33: 18, 46: 21, 35: 21, 47: 15, 30: 17, 1: 16, 32: 18, 50: 24, 5: 16, 25: 16, 10: 13}\n"
     ]
    }
   ],
   "source": [
    "# write your code here\n",
    "import numpy as np\n",
    "a = np.array(np.random.randint(1, 51, 1000))\n",
    "freq = {}\n",
    "for i in a:\n",
    "    if i in freq:\n",
    "        freq[i] += 1\n",
    "    else:\n",
    "        freq[i] = 1\n",
    "print(freq)"
   ]
  }
 ],
 "metadata": {
  "kernelspec": {
   "display_name": "Python 3",
   "language": "python",
   "name": "python3"
  },
  "language_info": {
   "codemirror_mode": {
    "name": "ipython",
    "version": 3
   },
   "file_extension": ".py",
   "mimetype": "text/x-python",
   "name": "python",
   "nbconvert_exporter": "python",
   "pygments_lexer": "ipython3",
   "version": "3.8.6"
  }
 },
 "nbformat": 4,
 "nbformat_minor": 4
}

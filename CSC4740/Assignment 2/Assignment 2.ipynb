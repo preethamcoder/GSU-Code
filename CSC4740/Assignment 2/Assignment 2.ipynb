{
 "cells": [
  {
   "cell_type": "code",
   "execution_count": 1,
   "metadata": {},
   "outputs": [],
   "source": [
    "def edit_distance(s1: str, s2: str) -> int:\n",
    "    l1 = len(s1)\n",
    "    l2 = len(s2)\n",
    "    if not s1:\n",
    "        return l2\n",
    "    if not s2:\n",
    "        return l1\n",
    "    dp = [[0 for x in range(l2 + 1)] for x in range(l1 + 1)]\n",
    "    for ind in range(l1 + 1):\n",
    "        for ind2 in range(l2 + 1):\n",
    "            if ind == 0:\n",
    "                dp[ind][ind2] = ind2\n",
    "            elif ind2 == 0:\n",
    "                dp[ind][ind2] = ind\n",
    "            elif s1[ind-1] == s2[ind2-1]:\n",
    "                dp[ind][ind2] = dp[ind-1][ind2-1]\n",
    "            else:\n",
    "                dp[ind][ind2] = 1 + min(dp[ind][ind2-1], dp[ind-1][ind2], dp[ind-1][ind2-1])\n",
    "    return dp[l1][l2]"
   ]
  },
  {
   "cell_type": "code",
   "execution_count": 2,
   "metadata": {},
   "outputs": [
    {
     "data": {
      "text/plain": [
       "3"
      ]
     },
     "execution_count": 2,
     "metadata": {},
     "output_type": "execute_result"
    }
   ],
   "source": [
    "edit_distance(\"kitten\", \"sitting\")"
   ]
  },
  {
   "cell_type": "code",
   "execution_count": 3,
   "metadata": {},
   "outputs": [
    {
     "data": {
      "text/plain": [
       "2"
      ]
     },
     "execution_count": 3,
     "metadata": {},
     "output_type": "execute_result"
    }
   ],
   "source": [
    "edit_distance(\"GAMBOL\", \"GUMBO\")"
   ]
  }
 ],
 "metadata": {
  "kernelspec": {
   "display_name": "Python 3",
   "language": "python",
   "name": "python3"
  },
  "language_info": {
   "codemirror_mode": {
    "name": "ipython",
    "version": 3
   },
   "file_extension": ".py",
   "mimetype": "text/x-python",
   "name": "python",
   "nbconvert_exporter": "python",
   "pygments_lexer": "ipython3",
   "version": "3.8.10"
  }
 },
 "nbformat": 4,
 "nbformat_minor": 4
}

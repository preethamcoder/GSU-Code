{
 "cells": [
  {
   "cell_type": "code",
   "execution_count": 1,
   "id": "613873c0-a547-4e78-bbca-101d1be19700",
   "metadata": {},
   "outputs": [],
   "source": [
    "import numpy as np"
   ]
  },
  {
   "cell_type": "code",
   "execution_count": 2,
   "id": "71338508-9e54-4632-8872-6c5af493de14",
   "metadata": {},
   "outputs": [],
   "source": [
    "# WE know the number of nodes in advance, so I set it as such\n",
    "lim = 5\n",
    "# Intializes a blank array of 0s\n",
    "graph = [[0]*lim for n in range(lim)]\n",
    "# updates the graph with connections between nodes\n",
    "graph[0][1], graph[1][2], graph[1][3], graph[2][-2], graph[3][0], graph[3][-1], graph[-1][2] = 1, 1, 1, 1, 1, 1, 1\n",
    "# Converts the graph to a numpy array to make computations more efficient in the future\n",
    "graph = np.array(graph)\n",
    "# Creates empty graph with same dimensions as previosu graph"
   ]
  },
  {
   "cell_type": "code",
   "execution_count": 3,
   "id": "2b9aaafd-ee60-48e4-9f20-7363b112ebd9",
   "metadata": {},
   "outputs": [
    {
     "data": {
      "text/plain": [
       "(array([[0. , 1. , 0. , 0. , 0. ],\n",
       "        [0. , 0. , 0.5, 0.5, 0. ],\n",
       "        [0. , 0. , 0. , 1. , 0. ],\n",
       "        [0.5, 0. , 0. , 0. , 0.5],\n",
       "        [0. , 0. , 1. , 0. , 0. ]]),\n",
       " array([[0, 1, 0, 0, 0],\n",
       "        [0, 0, 1, 1, 0],\n",
       "        [0, 0, 0, 1, 0],\n",
       "        [1, 0, 0, 0, 1],\n",
       "        [0, 0, 1, 0, 0]]))"
      ]
     },
     "execution_count": 3,
     "metadata": {},
     "output_type": "execute_result"
    }
   ],
   "source": [
    "prob_mat = [[0]*lim for n in range(lim)]\n",
    "# Updates the prob_mat with the probabilities of transitions between nodes\n",
    "for ind in range(len(graph)):\n",
    "    den = sum(graph[ind])\n",
    "    for each in range(len(graph[ind])):\n",
    "        prob_mat[ind][each] += graph[ind][each]/den\n",
    "# Converts the prob_mat to a numpy array to make computations more efficient in the future\n",
    "prob_mat = np.array(prob_mat)\n",
    "# Displaying to make sure everything works as planned\n",
    "prob_mat, graph"
   ]
  },
  {
   "cell_type": "code",
   "execution_count": 4,
   "id": "9ea4ecd7-f99f-41ea-8c0f-38254d77fc4f",
   "metadata": {},
   "outputs": [],
   "source": [
    "# Defining the function, with the intial vector, decay factors, probability matrix transpose, and iterations\n",
    "def power_pagerank(mat, x_0, c, rounds):\n",
    "    # This gets length of each row in the matrix\n",
    "    size = mat.shape[1]\n",
    "    # This gets the change added to the modified vector\n",
    "    delta = (1-c)*((np.array([1]*size, dtype='float64'))/size)\n",
    "    # This keeps running the dot products and adding delta\n",
    "    for ind in range(rounds):\n",
    "        x_0 = np.dot(c, np.dot(mat, x_0)) + delta\n",
    "    # Returns the final values\n",
    "    return x_0"
   ]
  },
  {
   "cell_type": "code",
   "execution_count": 5,
   "id": "fd33b498-b5a6-4dd1-86b7-745966016059",
   "metadata": {},
   "outputs": [
    {
     "name": "stdout",
     "output_type": "stream",
     "text": [
      "Corresponding pagerank values for each node:\n",
      "{1: 0.1556, 2: 0.1622, 3: 0.2312, 4: 0.2955, 5: 0.1556}\n"
     ]
    }
   ],
   "source": [
    "# This gets the list of pagerank values\n",
    "vals = list(power_pagerank(prob_mat.T, [1/len(prob_mat)]*len(prob_mat), 0.85, 30))\n",
    "# Dictionary to store values based on node number\n",
    "cor_vals = {}\n",
    "# This populates the dictionary with the values, rounded to 4 digits\n",
    "for ind in range(len(vals)):\n",
    "    cor_vals[ind+1] = round(vals[ind], 4)\n",
    "# Finally returns the output in a human readbale form!\n",
    "print(f\"Corresponding pagerank values for each node:\\n{cor_vals}\")"
   ]
  }
 ],
 "metadata": {
  "kernelspec": {
   "display_name": "Python 3 (ipykernel)",
   "language": "python",
   "name": "python3"
  },
  "language_info": {
   "codemirror_mode": {
    "name": "ipython",
    "version": 3
   },
   "file_extension": ".py",
   "mimetype": "text/x-python",
   "name": "python",
   "nbconvert_exporter": "python",
   "pygments_lexer": "ipython3",
   "version": "3.8.10"
  }
 },
 "nbformat": 4,
 "nbformat_minor": 5
}

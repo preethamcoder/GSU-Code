{
 "cells": [
  {
   "cell_type": "code",
   "execution_count": 1,
   "metadata": {},
   "outputs": [],
   "source": [
    "import numpy as np\n",
    "import statistics as st\n",
    "import matplotlib.pyplot as plt"
   ]
  },
  {
   "cell_type": "code",
   "execution_count": 2,
   "metadata": {},
   "outputs": [
    {
     "name": "stdout",
     "output_type": "stream",
     "text": [
      "In order: mean, median, mode\n"
     ]
    },
    {
     "data": {
      "text/plain": [
       "(31.2, 27.0, 27)"
      ]
     },
     "execution_count": 2,
     "metadata": {},
     "output_type": "execute_result"
    }
   ],
   "source": [
    "# Question 1\n",
    "data = np.array([46, 25, 27, 27, 28, 36, 53, 27, 18, 25])\n",
    "mean = np.mean(data)\n",
    "median = np.median(data)\n",
    "mode = st.mode(data)\n",
    "print(\"In order: mean, median, mode\")\n",
    "mean, median, mode"
   ]
  },
  {
   "cell_type": "code",
   "execution_count": 3,
   "metadata": {},
   "outputs": [
    {
     "name": "stdout",
     "output_type": "stream",
     "text": [
      "In order: max, min, q1, q2, q3\n"
     ]
    },
    {
     "data": {
      "text/plain": [
       "(89.1, 52.3, 61.85, 72.6, 83.25)"
      ]
     },
     "execution_count": 3,
     "metadata": {},
     "output_type": "execute_result"
    }
   ],
   "source": [
    "# Question 2, part 1\n",
    "months = [\"Jan\", \"Feb\", \"Mar\", \"Apr\", \"May\", \"Jun\", \"Jul\", \"Aug\", \"Sep\", \"Oct\", \"Nov\", \"Dec\"]\n",
    "temps = [52.3, 56.6, 64.6, 72.5, 79.9, 86.4, 89.1, 88.1, 82.2, 72.7, 63.6, 54.0] \n",
    "data = [52.3, 56.6, 64.6, 72.5, 79.9, 86.4, 89.1, 88.1, 82.2, 72.7, 63.6, 54.0]\n",
    "data.sort()\n",
    "max_elem = data[-1]\n",
    "min_elem = data[0]\n",
    "q1 = np.percentile(data, 25)\n",
    "q2 = np.median(data)\n",
    "q3 = np.percentile(data, 75)\n",
    "print(\"In order: max, min, q1, q2, q3\")\n",
    "max_elem, min_elem, q1, q2, q3"
   ]
  },
  {
   "cell_type": "code",
   "execution_count": 4,
   "metadata": {},
   "outputs": [
    {
     "data": {
      "image/png": "[encoded data removed]",
      "text/plain": [
       "<Figure size 432x288 with 1 Axes>"
      ]
     },
     "metadata": {
      "needs_background": "light"
     },
     "output_type": "display_data"
    }
   ],
   "source": [
    "# Question 2 part 3\n",
    "plt.boxplot(data)\n",
    "plt.show()"
   ]
  },
  {
   "cell_type": "code",
   "execution_count": 5,
   "metadata": {},
   "outputs": [
    {
     "data": {
      "image/png": "[encoded data removed]",
      "text/plain": [
       "<Figure size 432x288 with 1 Axes>"
      ]
     },
     "metadata": {
      "needs_background": "light"
     },
     "output_type": "display_data"
    }
   ],
   "source": [
    "# Question 2 part 3 continued\n",
    "plt.plot(months, temps)\n",
    "plt.show()"
   ]
  },
  {
   "cell_type": "code",
   "execution_count": 6,
   "metadata": {},
   "outputs": [
    {
     "data": {
      "text/plain": [
       "0.9283803587149121"
      ]
     },
     "execution_count": 6,
     "metadata": {},
     "output_type": "execute_result"
    }
   ],
   "source": [
    "# There was no need to code for questions 3 and 4, so this is directly for question 5\n",
    "# Question 5 part 3\n",
    "fl_a = [5.1, 3.5, 1.4, 0.2]\n",
    "fl_b = [7.0, 3.2, 4.7, 1.4]\n",
    "def cosine_similarity(a, b):\n",
    "    dot = np.dot(a, b)\n",
    "    n1 = np.linalg.norm(a)\n",
    "    n2 = np.linalg.norm(b)\n",
    "    return dot/(n1*n2)\n",
    "cosine_similarity(fl_a, fl_b)"
   ]
  },
  {
   "cell_type": "code",
   "execution_count": 7,
   "metadata": {},
   "outputs": [
    {
     "data": {
      "text/plain": [
       "0.9512206136121124"
      ]
     },
     "execution_count": 7,
     "metadata": {},
     "output_type": "execute_result"
    }
   ],
   "source": [
    "# Question 5 part 4\n",
    "fl_c = [4.8, 3.4, 1.9, 0.2]\n",
    "cosine_similarity(fl_b, fl_c)"
   ]
  },
  {
   "cell_type": "code",
   "execution_count": 8,
   "metadata": {},
   "outputs": [
    {
     "data": {
      "text/plain": [
       "0.911332158134265"
      ]
     },
     "execution_count": 8,
     "metadata": {},
     "output_type": "execute_result"
    }
   ],
   "source": [
    "# Question 6 part 2\n",
    "credit_scores = {'Excellent':5, 'Very good':4, 'Good':3, 'Fair':2, 'Poor':1}\n",
    "salary_range = {'Very High':4, 'High':3, 'Medium':2, 'Low':1}\n",
    "age = {'Senior':3, 'Middle Age':2, 'Young':1}\n",
    "# This is the order for all people: 'Credit Score Range', 'Salary Range', 'Age'\n",
    "\"\"\"\n",
    "Score of each:\n",
    "z_f = (r_f - 1)/(r_max - 1)\n",
    "\"\"\"\n",
    "kevin = [1, 0.67, 1]\n",
    "john = [0.75, 1, 0.5]\n",
    "daniel = [0.5, 0.33, 0]\n",
    "cosine_similarity(kevin, john)"
   ]
  },
  {
   "cell_type": "code",
   "execution_count": 9,
   "metadata": {},
   "outputs": [
    {
     "data": {
      "text/plain": [
       "0.8741045486243668"
      ]
     },
     "execution_count": 9,
     "metadata": {},
     "output_type": "execute_result"
    }
   ],
   "source": [
    "# Question 6 part 3\n",
    "cosine_similarity(john, daniel)"
   ]
  },
  {
   "cell_type": "code",
   "execution_count": 10,
   "metadata": {},
   "outputs": [
    {
     "data": {
      "text/plain": [
       "[0.0, 0.4615384615384617, 0.8461538461538461, 1.0]"
      ]
     },
     "execution_count": 10,
     "metadata": {},
     "output_type": "execute_result"
    }
   ],
   "source": [
    "# Question 7\n",
    "# Here, I have assumed that we do not need to consider it as feet and inches, and can use decimal values as pure feet; as in 5.5 ft = 5'6\" \n",
    "heights = [5.7, 6.2, 5.1, 6.4]\n",
    "heights.sort()\n",
    "def max_min_normalize(data):\n",
    "    res = []\n",
    "    largest = data[-1]\n",
    "    smallest = data[0]\n",
    "    for each in data:\n",
    "        res.append((each-smallest)/(largest-smallest))\n",
    "    return res\n",
    "max_min_normalize(heights)"
   ]
  }
 ],
 "metadata": {
  "kernelspec": {
   "display_name": "Python 3",
   "language": "python",
   "name": "python3"
  },
  "language_info": {
   "codemirror_mode": {
    "name": "ipython",
    "version": 3
   },
   "file_extension": ".py",
   "mimetype": "text/x-python",
   "name": "python",
   "nbconvert_exporter": "python",
   "pygments_lexer": "ipython3",
   "version": "3.8.10"
  }
 },
 "nbformat": 4,
 "nbformat_minor": 4
}

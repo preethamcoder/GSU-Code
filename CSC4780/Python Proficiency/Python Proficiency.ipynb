{
 "cells": [
  {
   "cell_type": "code",
   "execution_count": 1,
   "metadata": {},
   "outputs": [
    {
     "name": "stdout",
     "output_type": "stream",
     "text": [
      "Sliced list = [1, 2, 3, 4]\n"
     ]
    }
   ],
   "source": [
    "from module_one import *\n",
    "\n",
    "array = module_one(10)\n",
    "sliced_array = array.slice(4)\n",
    "print(\"Sliced list =\", sliced_array)"
   ]
  }
 ],
 "metadata": {
  "kernelspec": {
   "display_name": "Python 3",
   "language": "python",
   "name": "python3"
  },
  "language_info": {
   "codemirror_mode": {
    "name": "ipython",
    "version": 3
   },
   "file_extension": ".py",
   "mimetype": "text/x-python",
   "name": "python",
   "nbconvert_exporter": "python",
   "pygments_lexer": "ipython3",
   "version": "3.8.10"
  }
 },
 "nbformat": 4,
 "nbformat_minor": 4
}

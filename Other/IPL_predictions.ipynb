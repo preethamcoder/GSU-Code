{
 "cells": [
  {
   "cell_type": "code",
   "execution_count": 14,
   "metadata": {},
   "outputs": [],
   "source": [
    "import pandas as pd\n",
    "import numpy as np\n",
    "import matplotlib.pyplot as plt"
   ]
  },
  {
   "cell_type": "code",
   "execution_count": 2,
   "metadata": {},
   "outputs": [
    {
     "name": "stdout",
     "output_type": "stream",
     "text": [
      "DataFrames are tables which contain arrays of individual entries, witha certain value for each.\n",
      "pd.DataFrame() is used to create these DataFrames.\n",
      "These DataFrames can contain values of arrays or dictionaries.\n",
      "List of row labels in a Data Frame is called index.\n"
     ]
    },
    {
     "data": {
      "text/plain": [
       "2015 Sales    30\n",
       "2016 Sales    35\n",
       "2017 Sales    40\n",
       "Name: Product A, dtype: int64"
      ]
     },
     "execution_count": 2,
     "metadata": {},
     "output_type": "execute_result"
    }
   ],
   "source": [
    "print(\"\"\"DataFrames are tables which contain arrays of individual entries, witha certain value for each.\n",
    "pd.DataFrame() is used to create these DataFrames.\n",
    "These DataFrames can contain values of arrays or dictionaries.\n",
    "List of row labels in a Data Frame is called index.\"\"\")\n",
    "data = pd.DataFrame([[30,21],[50,41]], columns = [\"Column 1\", \"Column 2\"], index = ['Individual row 1', \"Individual row 2\"])\n",
    "series = pd.Series([i for i in range(1, 21)])\n",
    "#data\n",
    "#series\n",
    "pd.Series([30, 35, 40], index=['2015 Sales', '2016 Sales', '2017 Sales'], name='Product A')"
   ]
  },
  {
   "cell_type": "code",
   "execution_count": 3,
   "metadata": {},
   "outputs": [
    {
     "data": {
      "text/html": [
       "<div>\n",
       "<style scoped>\n",
       "    .dataframe tbody tr th:only-of-type {\n",
       "        vertical-align: middle;\n",
       "    }\n",
       "\n",
       "    .dataframe tbody tr th {\n",
       "        vertical-align: top;\n",
       "    }\n",
       "\n",
       "    .dataframe thead th {\n",
       "        text-align: right;\n",
       "    }\n",
       "</style>\n",
       "<table border=\"1\" class=\"dataframe\">\n",
       "  <thead>\n",
       "    <tr style=\"text-align: right;\">\n",
       "      <th></th>\n",
       "      <th>Last name</th>\n",
       "      <th>First name</th>\n",
       "      <th>SSN</th>\n",
       "      <th>Test1</th>\n",
       "      <th>Test2</th>\n",
       "      <th>Test3</th>\n",
       "      <th>Test4</th>\n",
       "      <th>Final</th>\n",
       "      <th>Grade</th>\n",
       "    </tr>\n",
       "  </thead>\n",
       "  <tbody>\n",
       "    <tr>\n",
       "      <th>0</th>\n",
       "      <td>Alfalfa</td>\n",
       "      <td>Aloysius</td>\n",
       "      <td>123-45-6789</td>\n",
       "      <td>40.0</td>\n",
       "      <td>90.0</td>\n",
       "      <td>100.0</td>\n",
       "      <td>83.0</td>\n",
       "      <td>49.0</td>\n",
       "      <td>D-</td>\n",
       "    </tr>\n",
       "    <tr>\n",
       "      <th>1</th>\n",
       "      <td>Alfred</td>\n",
       "      <td>University</td>\n",
       "      <td>123-12-1234</td>\n",
       "      <td>41.0</td>\n",
       "      <td>97.0</td>\n",
       "      <td>96.0</td>\n",
       "      <td>97.0</td>\n",
       "      <td>48.0</td>\n",
       "      <td>D+</td>\n",
       "    </tr>\n",
       "    <tr>\n",
       "      <th>2</th>\n",
       "      <td>Gerty</td>\n",
       "      <td>Gramma</td>\n",
       "      <td>567-89-0123</td>\n",
       "      <td>41.0</td>\n",
       "      <td>80.0</td>\n",
       "      <td>60.0</td>\n",
       "      <td>40.0</td>\n",
       "      <td>44.0</td>\n",
       "      <td>C</td>\n",
       "    </tr>\n",
       "    <tr>\n",
       "      <th>3</th>\n",
       "      <td>Android</td>\n",
       "      <td>Electric</td>\n",
       "      <td>087-65-4321</td>\n",
       "      <td>42.0</td>\n",
       "      <td>23.0</td>\n",
       "      <td>36.0</td>\n",
       "      <td>45.0</td>\n",
       "      <td>47.0</td>\n",
       "      <td>B-</td>\n",
       "    </tr>\n",
       "    <tr>\n",
       "      <th>4</th>\n",
       "      <td>Bumpkin</td>\n",
       "      <td>Fred</td>\n",
       "      <td>456-78-9012</td>\n",
       "      <td>43.0</td>\n",
       "      <td>78.0</td>\n",
       "      <td>88.0</td>\n",
       "      <td>77.0</td>\n",
       "      <td>45.0</td>\n",
       "      <td>A-</td>\n",
       "    </tr>\n",
       "    <tr>\n",
       "      <th>5</th>\n",
       "      <td>Rubble</td>\n",
       "      <td>Betty</td>\n",
       "      <td>234-56-7890</td>\n",
       "      <td>44.0</td>\n",
       "      <td>90.0</td>\n",
       "      <td>80.0</td>\n",
       "      <td>90.0</td>\n",
       "      <td>46.0</td>\n",
       "      <td>C-</td>\n",
       "    </tr>\n",
       "    <tr>\n",
       "      <th>6</th>\n",
       "      <td>Noshow</td>\n",
       "      <td>Cecil</td>\n",
       "      <td>345-67-8901</td>\n",
       "      <td>45.0</td>\n",
       "      <td>11.0</td>\n",
       "      <td>-1.0</td>\n",
       "      <td>4.0</td>\n",
       "      <td>43.0</td>\n",
       "      <td>F</td>\n",
       "    </tr>\n",
       "    <tr>\n",
       "      <th>7</th>\n",
       "      <td>Buff</td>\n",
       "      <td>Bif</td>\n",
       "      <td>632-79-9939</td>\n",
       "      <td>46.0</td>\n",
       "      <td>20.0</td>\n",
       "      <td>30.0</td>\n",
       "      <td>40.0</td>\n",
       "      <td>50.0</td>\n",
       "      <td>B+</td>\n",
       "    </tr>\n",
       "    <tr>\n",
       "      <th>8</th>\n",
       "      <td>Airpump</td>\n",
       "      <td>Andrew</td>\n",
       "      <td>223-45-6789</td>\n",
       "      <td>49.0</td>\n",
       "      <td>1.0</td>\n",
       "      <td>90.0</td>\n",
       "      <td>100.0</td>\n",
       "      <td>83.0</td>\n",
       "      <td>A</td>\n",
       "    </tr>\n",
       "  </tbody>\n",
       "</table>\n",
       "</div>"
      ],
      "text/plain": [
       "  Last name      First name                  SSN        Test1         Test2  \\\n",
       "0   Alfalfa        Aloysius          123-45-6789         40.0          90.0   \n",
       "1    Alfred      University          123-12-1234         41.0          97.0   \n",
       "2     Gerty          Gramma          567-89-0123         41.0          80.0   \n",
       "3   Android        Electric          087-65-4321         42.0          23.0   \n",
       "4   Bumpkin            Fred          456-78-9012         43.0          78.0   \n",
       "5    Rubble           Betty          234-56-7890         44.0          90.0   \n",
       "6    Noshow           Cecil          345-67-8901         45.0          11.0   \n",
       "7      Buff             Bif          632-79-9939         46.0          20.0   \n",
       "8   Airpump          Andrew          223-45-6789         49.0           1.0   \n",
       "\n",
       "            Test3       Test4       Final    Grade  \n",
       "0           100.0        83.0        49.0       D-  \n",
       "1            96.0        97.0        48.0       D+  \n",
       "2            60.0        40.0        44.0        C  \n",
       "3            36.0        45.0        47.0       B-  \n",
       "4            88.0        77.0        45.0       A-  \n",
       "5            80.0        90.0        46.0       C-  \n",
       "6            -1.0         4.0        43.0        F  \n",
       "7            30.0        40.0        50.0       B+  \n",
       "8            90.0       100.0        83.0        A  "
      ]
     },
     "execution_count": 3,
     "metadata": {},
     "output_type": "execute_result"
    }
   ],
   "source": [
    "#Now I am going to read some data from a csv file called grades!\n",
    "stud_grades = pd.read_csv(\"csv_Files/grades.csv\")\n",
    "stud_grades.iloc[:9]"
   ]
  },
  {
   "cell_type": "code",
   "execution_count": 4,
   "metadata": {},
   "outputs": [
    {
     "data": {
      "text/html": [
       "<div>\n",
       "<style scoped>\n",
       "    .dataframe tbody tr th:only-of-type {\n",
       "        vertical-align: middle;\n",
       "    }\n",
       "\n",
       "    .dataframe tbody tr th {\n",
       "        vertical-align: top;\n",
       "    }\n",
       "\n",
       "    .dataframe thead th {\n",
       "        text-align: right;\n",
       "    }\n",
       "</style>\n",
       "<table border=\"1\" class=\"dataframe\">\n",
       "  <thead>\n",
       "    <tr style=\"text-align: right;\">\n",
       "      <th></th>\n",
       "      <th>Last name</th>\n",
       "      <th>First name</th>\n",
       "      <th>SSN</th>\n",
       "      <th>Test1</th>\n",
       "      <th>Test2</th>\n",
       "      <th>Test3</th>\n",
       "      <th>Test4</th>\n",
       "      <th>Final</th>\n",
       "      <th>Grade</th>\n",
       "    </tr>\n",
       "  </thead>\n",
       "  <tbody>\n",
       "    <tr>\n",
       "      <th>0</th>\n",
       "      <td>Alfalfa</td>\n",
       "      <td>Aloysius</td>\n",
       "      <td>123-45-6789</td>\n",
       "      <td>40.0</td>\n",
       "      <td>90.0</td>\n",
       "      <td>100.0</td>\n",
       "      <td>83.0</td>\n",
       "      <td>49.0</td>\n",
       "      <td>D-</td>\n",
       "    </tr>\n",
       "    <tr>\n",
       "      <th>1</th>\n",
       "      <td>Alfred</td>\n",
       "      <td>University</td>\n",
       "      <td>123-12-1234</td>\n",
       "      <td>41.0</td>\n",
       "      <td>97.0</td>\n",
       "      <td>96.0</td>\n",
       "      <td>97.0</td>\n",
       "      <td>48.0</td>\n",
       "      <td>D+</td>\n",
       "    </tr>\n",
       "    <tr>\n",
       "      <th>2</th>\n",
       "      <td>Gerty</td>\n",
       "      <td>Gramma</td>\n",
       "      <td>567-89-0123</td>\n",
       "      <td>41.0</td>\n",
       "      <td>80.0</td>\n",
       "      <td>60.0</td>\n",
       "      <td>40.0</td>\n",
       "      <td>44.0</td>\n",
       "      <td>C</td>\n",
       "    </tr>\n",
       "    <tr>\n",
       "      <th>3</th>\n",
       "      <td>Android</td>\n",
       "      <td>Electric</td>\n",
       "      <td>087-65-4321</td>\n",
       "      <td>42.0</td>\n",
       "      <td>23.0</td>\n",
       "      <td>36.0</td>\n",
       "      <td>45.0</td>\n",
       "      <td>47.0</td>\n",
       "      <td>B-</td>\n",
       "    </tr>\n",
       "    <tr>\n",
       "      <th>4</th>\n",
       "      <td>Bumpkin</td>\n",
       "      <td>Fred</td>\n",
       "      <td>456-78-9012</td>\n",
       "      <td>43.0</td>\n",
       "      <td>78.0</td>\n",
       "      <td>88.0</td>\n",
       "      <td>77.0</td>\n",
       "      <td>45.0</td>\n",
       "      <td>A-</td>\n",
       "    </tr>\n",
       "    <tr>\n",
       "      <th>5</th>\n",
       "      <td>Rubble</td>\n",
       "      <td>Betty</td>\n",
       "      <td>234-56-7890</td>\n",
       "      <td>44.0</td>\n",
       "      <td>90.0</td>\n",
       "      <td>80.0</td>\n",
       "      <td>90.0</td>\n",
       "      <td>46.0</td>\n",
       "      <td>C-</td>\n",
       "    </tr>\n",
       "    <tr>\n",
       "      <th>6</th>\n",
       "      <td>Noshow</td>\n",
       "      <td>Cecil</td>\n",
       "      <td>345-67-8901</td>\n",
       "      <td>45.0</td>\n",
       "      <td>11.0</td>\n",
       "      <td>-1.0</td>\n",
       "      <td>4.0</td>\n",
       "      <td>43.0</td>\n",
       "      <td>F</td>\n",
       "    </tr>\n",
       "    <tr>\n",
       "      <th>7</th>\n",
       "      <td>Buff</td>\n",
       "      <td>Bif</td>\n",
       "      <td>632-79-9939</td>\n",
       "      <td>46.0</td>\n",
       "      <td>20.0</td>\n",
       "      <td>30.0</td>\n",
       "      <td>40.0</td>\n",
       "      <td>50.0</td>\n",
       "      <td>B+</td>\n",
       "    </tr>\n",
       "    <tr>\n",
       "      <th>8</th>\n",
       "      <td>Airpump</td>\n",
       "      <td>Andrew</td>\n",
       "      <td>223-45-6789</td>\n",
       "      <td>49.0</td>\n",
       "      <td>1.0</td>\n",
       "      <td>90.0</td>\n",
       "      <td>100.0</td>\n",
       "      <td>83.0</td>\n",
       "      <td>A</td>\n",
       "    </tr>\n",
       "    <tr>\n",
       "      <th>9</th>\n",
       "      <td>Backus</td>\n",
       "      <td>Jim</td>\n",
       "      <td>143-12-1234</td>\n",
       "      <td>48.0</td>\n",
       "      <td>1.0</td>\n",
       "      <td>97.0</td>\n",
       "      <td>96.0</td>\n",
       "      <td>97.0</td>\n",
       "      <td>A+</td>\n",
       "    </tr>\n",
       "  </tbody>\n",
       "</table>\n",
       "</div>"
      ],
      "text/plain": [
       "  Last name      First name                  SSN        Test1         Test2  \\\n",
       "0   Alfalfa        Aloysius          123-45-6789         40.0          90.0   \n",
       "1    Alfred      University          123-12-1234         41.0          97.0   \n",
       "2     Gerty          Gramma          567-89-0123         41.0          80.0   \n",
       "3   Android        Electric          087-65-4321         42.0          23.0   \n",
       "4   Bumpkin            Fred          456-78-9012         43.0          78.0   \n",
       "5    Rubble           Betty          234-56-7890         44.0          90.0   \n",
       "6    Noshow           Cecil          345-67-8901         45.0          11.0   \n",
       "7      Buff             Bif          632-79-9939         46.0          20.0   \n",
       "8   Airpump          Andrew          223-45-6789         49.0           1.0   \n",
       "9    Backus             Jim          143-12-1234         48.0           1.0   \n",
       "\n",
       "            Test3       Test4       Final    Grade  \n",
       "0           100.0        83.0        49.0       D-  \n",
       "1            96.0        97.0        48.0       D+  \n",
       "2            60.0        40.0        44.0        C  \n",
       "3            36.0        45.0        47.0       B-  \n",
       "4            88.0        77.0        45.0       A-  \n",
       "5            80.0        90.0        46.0       C-  \n",
       "6            -1.0         4.0        43.0        F  \n",
       "7            30.0        40.0        50.0       B+  \n",
       "8            90.0       100.0        83.0        A  \n",
       "9            97.0        96.0        97.0       A+  "
      ]
     },
     "execution_count": 4,
     "metadata": {},
     "output_type": "execute_result"
    }
   ],
   "source": [
    "stud_grades.loc[:9]"
   ]
  },
  {
   "cell_type": "code",
   "execution_count": 16,
   "metadata": {},
   "outputs": [
    {
     "name": "stdin",
     "output_type": "stream",
     "text": [
      "Enter the name of your batsman: KD Karthik\n",
      "Enter the name of your bowler:  AD Russell\n"
     ]
    },
    {
     "data": {
      "image/png": "[encoded data removed]",
      "text/plain": [
       "<Figure size 432x288 with 1 Axes>"
      ]
     },
     "metadata": {
      "needs_background": "light"
     },
     "output_type": "display_data"
    },
    {
     "name": "stdout",
     "output_type": "stream",
     "text": [
      "In 10 balls, KD Karthik has scored 14 runs and got out 0 times to AD Russell!\n"
     ]
    }
   ],
   "source": [
    "batsman = input(\"Enter the name of your batsman:\")\n",
    "bowler = input(\"Enter the name of your bowler: \")\n",
    "#team = input(\"Enter the team name\")\n",
    "data = pd.read_csv(\"csv_Files/ball-by-ball.csv\")\n",
    "new_df = data.query('batsman==\"{0}\" & bowler==\"{1}\"'.format(batsman, bowler))\n",
    "#new_df = data.query('batsman==\"{0}\" & (bowling_team==\"Kings XI Punjab\")'.format(batsman))\n",
    "#new_df['batsman_runs'].sum(), new_df['is_wicket'].sum()\n",
    "balls = len(new_df['batsman_runs'].tolist()) \n",
    "y_axis = new_df['batsman_runs'].tolist()\n",
    "wicket = new_df['is_wicket'].tolist()\n",
    "wickets = sum(new_df['is_wicket'].tolist())\n",
    "x_axis = range(1, balls+1)\n",
    "plt.grid()\n",
    "plt.bar(x_axis, y_axis)\n",
    "plt.bar(x_axis, wicket)\n",
    "plt.ylabel(\"RUNS\")\n",
    "plt.xlabel(\"BALLS\")\n",
    "plt.title(batsman+\" vs \"+bowler)\n",
    "plt.legend([\"Run\", \"Wicket\"])\n",
    "plt.show()\n",
    "print(\"In\", balls, f\"balls, {batsman} has scored\", sum(y_axis), \"runs and got out\", wickets, f\"times to {bowler}!\")"
   ]
  },
  {
   "cell_type": "code",
   "execution_count": 17,
   "metadata": {},
   "outputs": [
    {
     "name": "stdin",
     "output_type": "stream",
     "text": [
      "Enter name of batsman:  KD Karthik\n",
      "Enter name of team:  Kolkata Knight Riders\n"
     ]
    },
    {
     "data": {
      "image/png": "[encoded data removed]",
      "text/plain": [
       "<Figure size 432x288 with 1 Axes>"
      ]
     },
     "metadata": {
      "needs_background": "light"
     },
     "output_type": "display_data"
    },
    {
     "name": "stdout",
     "output_type": "stream",
     "text": [
      "In 270 balls, KD Karthik has scored 352 runs at a strike-rate of 130.37 and got out 15 times to Kolkata Knight Riders!\n"
     ]
    }
   ],
   "source": [
    "batsman = input(\"Enter name of batsman: \")\n",
    "team = input(\"Enter name of team: \")\n",
    "new_df = data.query(f\"batsman=='{batsman}' & bowling_team=='{team}'\")\n",
    "balls = len(new_df['batsman_runs'].tolist()) \n",
    "y_axis = new_df['batsman_runs'].tolist()\n",
    "wicket = new_df['is_wicket'].tolist()\n",
    "wickets = sum(new_df['is_wicket'].tolist())\n",
    "x_axis = range(1, balls+1)\n",
    "plt.grid()\n",
    "plt.bar(x_axis, y_axis)\n",
    "plt.bar(x_axis, wicket)\n",
    "plt.ylabel(\"RUNS\")\n",
    "plt.xlabel(\"BALLS\")\n",
    "plt.title(batsman+\" vs \"+team)\n",
    "plt.legend([\"Runs\", \"Wicket\"])\n",
    "plt.show()\n",
    "if balls > 0:\n",
    "    print(\"In\", balls, f\"balls, {batsman} has scored\", sum(y_axis), f\"runs at a strike-rate of {round(100*sum(y_axis)/balls, 2)} and got out\", wickets, f\"times to {team}!\")\n",
    "else:\n",
    "    print(\"In\", balls, f\"balls, {batsman} has scored\", sum(y_axis), \"runs and got out\", wickets, f\"times to {team}!\")"
   ]
  },
  {
   "cell_type": "code",
   "execution_count": 8,
   "metadata": {},
   "outputs": [
    {
     "name": "stdin",
     "output_type": "stream",
     "text": [
      "Enter name of bowler:  AD Russell\n",
      "Enter name of team:  Royal Challengers Bangalore\n"
     ]
    },
    {
     "data": {
      "image/png": "[encoded data removed]",
      "text/plain": [
       "<Figure size 432x288 with 1 Axes>"
      ]
     },
     "metadata": {
      "needs_background": "light"
     },
     "output_type": "display_data"
    },
    {
     "name": "stdout",
     "output_type": "stream",
     "text": [
      "In 172 balls, AD Russell went for 250 runs and picked 7 wickets against Royal Challengers Bangalore!\n"
     ]
    }
   ],
   "source": [
    "bowler = input(\"Enter name of bowler: \")\n",
    "team = input(\"Enter name of team: \")\n",
    "new_df = data.query(f\"bowler=='{bowler}' & batting_team=='{team}'\")\n",
    "balls = len(new_df['batsman_runs'].tolist()) \n",
    "y_axis = new_df['batsman_runs'].tolist()\n",
    "wicket = new_df['is_wicket'].tolist()\n",
    "wickets = sum(wicket)\n",
    "x_axis = range(1, balls+1)\n",
    "plt.grid()\n",
    "plt.bar(x_axis, y_axis)\n",
    "plt.bar(x_axis, wicket)\n",
    "plt.ylabel(\"RUNS\")\n",
    "plt.xlabel(\"BALLS\")\n",
    "plt.title(bowler+\" vs \"+team)\n",
    "plt.legend([\"Run\", \"Wicket\"])\n",
    "plt.show()\n",
    "print(\"In\", balls, f\"balls, {bowler} went for\", sum(y_axis), \"runs and picked\", wickets, \"wickets against {}!\".format(team)) "
   ]
  }
 ],
 "metadata": {
  "kernelspec": {
   "display_name": "Python 3",
   "language": "python",
   "name": "python3"
  },
  "language_info": {
   "codemirror_mode": {
    "name": "ipython",
    "version": 3
   },
   "file_extension": ".py",
   "mimetype": "text/x-python",
   "name": "python",
   "nbconvert_exporter": "python",
   "pygments_lexer": "ipython3",
   "version": "3.8.10"
  }
 },
 "nbformat": 4,
 "nbformat_minor": 4
}

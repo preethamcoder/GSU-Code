{
 "cells": [
  {
   "cell_type": "markdown",
   "metadata": {},
   "source": [
    "# Programming Task 5"
   ]
  },
  {
   "cell_type": "markdown",
   "metadata": {},
   "source": [
    "Please submit this document to iCollege by **2021/3/7 11:00pm**. Late submission will not be accepted.  "
   ]
  },
  {
   "cell_type": "markdown",
   "metadata": {},
   "source": [
    "Q1. (20%) Randomly generate a numpy array with 1000 numbers in the shape of (100, 10). The numbers should lie in the range of 1 and 50 inclusive. Then,\n",
    "1. calculate the mean, median, max, and standard deviation of all the numbers.\n",
    "2. calculate the mean, median, max, and standard deviation values of each row. \n",
    "3. calculate the mean, median, max, and standard deviation values of each column. \n",
    "4. compare the mean values you got in (1)-(3) with 25. What do you find? Can you explain it?"
   ]
  },
  {
   "cell_type": "code",
   "execution_count": 1,
   "metadata": {},
   "outputs": [
    {
     "name": "stdout",
     "output_type": "stream",
     "text": [
      "The values are evenly spread across 25 with equal absolute deviations in both directions. \n",
      "The standard deviation from 25 is almost 0, this shows consistency in the numbers and a high degree of clustering.\n"
     ]
    }
   ],
   "source": [
    "import numpy as np\n",
    "a = np.random.randint(1, 51, 1000)\n",
    "b = a.reshape(100, 10)\n",
    "#1\n",
    "mea1 = a.mean()\n",
    "med1 = np.median(a)\n",
    "std1 = np.std(a)\n",
    "max1 = a.max()\n",
    "#2\n",
    "mea2 = sum(b.mean(axis = 1)-25)\n",
    "med2 = np.median(b, axis = 1)\n",
    "std2 = np.std(b, axis = 1)\n",
    "max2 = np.max(b, axis = 1)\n",
    "#3\n",
    "mea3 = sum(b.mean(axis = 0)-25)\n",
    "med3 = np.median(b, axis = 0)\n",
    "std3 = np.std(b, axis = 0)\n",
    "max3 = np.max(b, axis = 0)\n",
    "#4\n",
    "print(\"\"\"The values are evenly spread across 25 with equal absolute deviations in both directions. \n",
    "The standard deviation from 25 is almost 0, this shows consistency in the numbers and a high degree of clustering.\"\"\")"
   ]
  },
  {
   "cell_type": "markdown",
   "metadata": {},
   "source": [
    "Q2. (30%) Randomly generate a numpy array with 1000 numbers in the shape of (10000,). The numbers should be in the range of 1 and 50 inclusive. Then,\n",
    "1. print the first 10 numbers, the last 10 numbers and the variance.\n",
    "2. calculate the difference of every two adjacent numbers in the array. For example, if the original array is [2,4,-1], then the array of difference should be [2, -5] because 4-2=2 and -1-4=-5. You should **NOT** use a for/while loop. \n",
    "3. calculate the sum of the difference array that you got in (2). Can you come up with another way to get the sum?\n",
    "4. sort the original array.\n",
    "6. print the first 10 numbers, the last 10 numbers and the variance of the sorted array. Is the variance changed?\n"
   ]
  },
  {
   "cell_type": "code",
   "execution_count": 45,
   "metadata": {},
   "outputs": [
    {
     "name": "stdout",
     "output_type": "stream",
     "text": [
      "[46 15 24 10 15  9 15 43 20  9]\n",
      "[44 22 22 42 14  7 10  2 16 33]\n",
      "Variance = 201.19564400000002\n",
      "\n",
      "[-31   9 -14   5  -6   6  28 -23 -11  22 -15  33 -23   6 -25  40 -18 -23\n",
      "  -2  13  19 -12  11 -33  16 -16  32 -25  13  10  -4 -17 -10  43 -17  -7\n",
      "   2  21 -41  44  -9  -3 -11  23   3 -39  14   2 -17  -2  42  -2 -12  -2\n",
      "   9   5  -7 -28  15  10 -15   3  -7  30 -44   8  20 -25  30   5 -32   8\n",
      "  17 -30   3  16 -20   0  21 -16   8  33 -47  47 -14  10 -38   2   7   3\n",
      "  27 -33   6  -4  25 -31   3  11  19 -27  12  -9  21  -6 -17  21 -31  -3\n",
      "  23   4   1 -19  -1  33  -8 -21  -4  10  25  -1 -18 -12  31  -5 -41   7\n",
      "  17  -4   2   8  -8  19   2  -2 -19   1  -3  13   9 -19  -4 -10  32 -30\n",
      "  11   2  -2  26   1 -33  33  -2 -43  -3  18  29 -26  -9  36 -28  18 -26\n",
      "   7  14 -25  15   6 -16  33 -16 -26  15 -20  48 -18 -28  21  -6  27 -34\n",
      "  34  -1   6 -10 -38  26 -21  17  -2  -4   9  -6  -2  31 -19 -15   9   7\n",
      " -13  -9  16  -8  13 -30  10 -10  38 -31  24   4 -26   3  28 -22   3   2\n",
      "  12 -33  14  19 -26  33 -12 -14  -9  32 -26  29   1  -9  -7 -10 -10  -4\n",
      "   0   7  39  -3 -27  30  -1  -8 -10 -27  43 -15 -11   4   9  -9  -2 -12\n",
      "  14   6  12  -1   3 -38  30  -4  11  -7  10 -30   8  17   6 -18 -20  -1\n",
      "   2  38 -26 -18  19  -8  32  -1 -15  15  -2 -32  28 -26  -1  -9  10  34\n",
      "  -9 -37   3  23 -28  24 -17  38 -26 -10  27  -9  22 -13 -10 -22  23  12\n",
      "  -4 -10 -22  36   7  -1  -4 -35  21 -17  15   1   0  13 -16  13 -35  18\n",
      "  18 -19  15 -12  21 -27  29 -22  25 -44   3  25 -14  -1 -11  -3   2   3\n",
      "  16  -2   0 -20  34   2 -31  11  10   1   7 -35   7  24 -12 -14   2  -6\n",
      "   9  33 -41  40  -5 -34  -2  27  18 -38  -2   3   3   4  -5   1   0   0\n",
      "   1  30  -9  -7  17 -19   8  -3 -22  19   0 -21  17   4 -10  -2 -14  43\n",
      "  -9 -31  10  23  -7 -26  13   0  30 -12 -13 -19   1  13  18 -17   7  17\n",
      " -22  -9  11   8 -28  36   5 -42  34 -34  43  -9 -31  13  31 -15   3  -1\n",
      " -35  43 -18  22   2 -37  32 -43  13  -2  21   9  -3 -11  20 -18  17 -46\n",
      "  40 -24 -16  23 -16   9  13  19 -43   5  -9  30   1 -32  15  33 -13  -4\n",
      "  17 -15 -19  10 -16  -2  36 -40  19 -14   4  12  13 -25  -8  24  -8  -1\n",
      "  15  -9 -15  25  12 -33   4  12 -25  22   6 -17  -2   2   1   9  -4  20\n",
      " -21  -3 -13  31   6   6 -22 -19  37 -27  28 -13  13 -45  28 -19  20  10\n",
      " -19  21 -38  44 -26  -1  24 -23  20 -16  -1 -14  15  -5   4  -7 -16   6\n",
      "  26 -16   5   2 -24  43 -40   6  22  18 -38  34 -22  -1   9  -2 -21  13\n",
      "  13  -3  -3 -18  31 -26  19 -26   4  31 -12 -16  -4 -11  45 -45  34  -9\n",
      " -24  33 -10 -24  21 -10  -8  31 -22  18  -4  23 -21   3  -3 -11  -9   0\n",
      "   6   0  -5  19  -5  14  -9 -27  38 -27  -6  20 -24  29 -16  17 -16  17\n",
      "  -5  -3  11 -27  33 -17 -13  -2  25 -30  42   2 -46   5  10  27 -45  15\n",
      "   5 -16  35  -3 -19  -7  38 -33  -4   3  26   2 -29  21 -12 -17   3  15\n",
      "   8   4   8 -38   2  -6  14 -11  21 -17  22 -12   3  11 -14  28 -31  24\n",
      " -39  27  19 -10 -15 -20  48 -49   6  29 -11 -18  13   9  14   7 -12  -1\n",
      "   1 -15   2  -8   0   4  17 -30  36 -22   1 -16  11  24 -22  -6 -13  17\n",
      "  30 -17 -26  21  -8 -10  -6  16  -1   6   2  22  -8 -15  -7   2   4 -22\n",
      "  31  -9 -14  34  -6   3 -10 -17  25 -35   8  38 -27  -6  29 -36  37 -23\n",
      "   3 -15   1  -7  40 -19   6   0 -15   1  -2  -7  13  -1   4  21 -26 -17\n",
      "  21 -12   8 -12  13   9  -3  15 -24   5  -5  26 -39   7  -1  38 -19   3\n",
      " -18   3  25 -39  14  23 -27  11 -17  29  10 -11   8 -14 -20  16  20 -19\n",
      "  -1 -10  11  12  -1 -25 -10  43 -18   7 -16  -3  -3  -1   2  20  14 -35\n",
      "  35  -2 -36  28 -13  20 -31  24  10 -13   5  10  -7 -15  17 -19   5 -27\n",
      "  32  -3 -14  16 -32  40 -22 -18  24  -2  22 -32  32 -36  32 -30  19  17\n",
      " -44  -1  34  -6 -20  17 -11  -8   6  -1   1  13  -6  -4 -16  27   1   6\n",
      " -21 -11   8  28  -8  -8 -13  -5  43 -23   4  16  -1  -7  -8  -2 -24   7\n",
      "  30 -25  20   4 -11 -11  -9   9   6  16 -36  32   5   3 -42  23 -22  13\n",
      "  15   6 -25   8  -7   9 -17  26   5 -28  -2  41 -33 -10   7  24  -1 -25\n",
      "  11  28  -9   3 -30  24 -13 -16  29 -28  12  15  -6   1 -19   2  17  15\n",
      "  -5 -31   4   6  -4  15  13 -21   0  -7  14 -11  27 -10  13 -13  -2  -9\n",
      "  25 -23   2  -6 -19  26   8   2  -6  -4  -2   1   2 -10  12  -3 -12 -16\n",
      "  30 -28  18  23 -21 -15  40 -38  13  17  -1  -9   4   6 -36  35 -31  35\n",
      " -22   0  20 -28  -7   3  -8  14  17]\n",
      "\n",
      "With sum() of list = -13\n",
      "With np.sum() = -13\n",
      "\n",
      "[1 1 1 1 1 1 1 1 1 1]\n",
      "[50 50 50 50 50 50 50 50 50 50]\n",
      "Variance = 201.19564400000002 ------- The variance has not changed!\n"
     ]
    }
   ],
   "source": [
    "import numpy as np\n",
    "a = np.random.randint(1, 51, size=(1000,))\n",
    "#1\n",
    "print(a[:10])\n",
    "print(a[-10:])\n",
    "print(\"Variance =\", np.std(a)*np.std(a))\n",
    "print()\n",
    "#2\n",
    "b = np.diff(a)\n",
    "print(b)\n",
    "print()\n",
    "#3\n",
    "#This is using the inbuilt function of lists\n",
    "print(\"With sum() of list =\",sum(b))\n",
    "#I can also do this using the numpy.sum()\n",
    "print(\"With np.sum() =\",np.sum(b))\n",
    "print()\n",
    "#4\n",
    "b = np.sort(a)\n",
    "#5\n",
    "print(b[:10])\n",
    "print(b[-10:])\n",
    "print(\"Variance =\", np.std(b)*np.std(b), end = \" ------- \")\n",
    "print(\"The variance has not changed!\" if (np.std(b)*np.std(b) == np.std(a)*np.std(a)) else \"It has changed!\")"
   ]
  },
  {
   "cell_type": "markdown",
   "metadata": {},
   "source": [
    "Q3. (50%) U.S. population data from 1950 to 2020 is provided in **US_population.txt**. United Nations projections are also included through the year 2100.\n",
    "\n",
    "You can view the file by any text editor. There are two columns in the file seperated by a comma: the first column corresponds to the year and the second corresponds to the population.\n",
    "\n",
    "1. Create a numpy array with the population data. \n",
    "\n",
    "     **Hint**: you may need readlines() and split() function.\n",
    "2. Calculate the annual growth rate of the population based on the method you used in Q2(2). Do **NOT** use a for/while loop.\n",
    "\n",
    "     **Hint**: If the population of year 2020 is *a* and the population of year 2021 is *b*, then the annual growth rate of 2021 is *(b-a)/a*.\n",
    "3. Plot the population and annual growth rate as **PT5_1.jpg** and **PT5_2.jpg**. Use solid line for historical data (1950 through 2020) and dashed line for U.N. projections data (2020 through 2100). "
   ]
  },
  {
   "cell_type": "code",
   "execution_count": 47,
   "metadata": {},
   "outputs": [
    {
     "data": {
      "image/png": "[encoded data removed]",
      "text/plain": [
       "<Figure size 432x288 with 1 Axes>"
      ]
     },
     "metadata": {
      "needs_background": "light"
     },
     "output_type": "display_data"
    },
    {
     "data": {
      "image/png": "[encoded data removed]",
      "text/plain": [
       "<Figure size 432x288 with 1 Axes>"
      ]
     },
     "metadata": {
      "needs_background": "light"
     },
     "output_type": "display_data"
    }
   ],
   "source": [
    "import numpy as np\n",
    "import matplotlib.pyplot as plt\n",
    "#1\n",
    "f = open(\"US_population.txt\", \"r\")\n",
    "g = f.readlines()\n",
    "h = []\n",
    "for i in g:\n",
    "    j = i.split(\",\")\n",
    "    if(j[1] == 'population\\n'):\n",
    "        #h.append(int((j[1].replace(\"\\n\", \"\"))))\n",
    "        pass\n",
    "    else:\n",
    "        h.append(int((j[1].replace(\"\\n\", \"\"))))\n",
    "        #print(\"\")\n",
    "finarr = np.array(h)\n",
    "#2\n",
    "b = np.diff(finarr)\n",
    "div_arr = finarr[:-1]\n",
    "z = np.divide(b, div_arr)*100\n",
    "#print(z)\n",
    "#3\n",
    "yr = list(range(1950, 2101))\n",
    "plt.plot(yr[:71], h[:71], 'b-',\n",
    "         yr[71:], h[71:], 'b--')\n",
    "plt.title(\"US Population Chart\")\n",
    "plt.ylabel(\"Population\")\n",
    "plt.xlabel(\"Year\")\n",
    "plt.savefig(\"PT5_1.jpg\")\n",
    "plt.show()\n",
    "#4\n",
    "plt.plot(yr[:71], z[:71], 'r-',\n",
    "        yr[71:150], z[71:], 'r--')\n",
    "plt.title(\"Annual Growth Rate\")\n",
    "plt.ylabel(\"Annual % Change\")\n",
    "plt.xlabel(\"Year\")\n",
    "plt.savefig(\"PT5_2.jpg\")\n",
    "plt.show()"
   ]
  }
 ],
 "metadata": {
  "kernelspec": {
   "display_name": "Python 3",
   "language": "python",
   "name": "python3"
  },
  "language_info": {
   "codemirror_mode": {
    "name": "ipython",
    "version": 3
   },
   "file_extension": ".py",
   "mimetype": "text/x-python",
   "name": "python",
   "nbconvert_exporter": "python",
   "pygments_lexer": "ipython3",
   "version": "3.8.8"
  }
 },
 "nbformat": 4,
 "nbformat_minor": 4
}
